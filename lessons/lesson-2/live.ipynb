{
 "cells": [
  {
   "cell_type": "code",
   "execution_count": 68,
   "id": "3fa8bc55-2eb6-4058-9416-248c02273b8e",
   "metadata": {},
   "outputs": [
    {
     "name": "stdout",
     "output_type": "stream",
     "text": [
      "First item: 10\n",
      "Last item: -30\n",
      "[-98, 10, 20, 30, 55, 'Andrew', 60, -30, -1.1, 8376, 'Alice']\n",
      "Count of elements in list: 1\n",
      "Len of list: 11\n",
      "Last element: Alice\n",
      "None\n",
      "Alice\n",
      "-98\n",
      "[10, 20, 30, 55, 60, -30, -1.1, 8376]\n",
      "[-30, -1.1, 10, 20, 30, 55, 60, 8376]\n",
      "[8376, 60, 55, 30, 20, 10, -1.1, -30]\n"
     ]
    }
   ],
   "source": [
    "# Collections\n",
    "# lists - map, array\n",
    "# tuples\n",
    "# sets\n",
    "# dicts\n",
    "\n",
    "# Lists\n",
    "# index begins from 0 !!!\n",
    "# next element index = +1\n",
    "my_new_album = [\n",
    "    \"New\",  # index = 0\n",
    "    \"This is my life\",  # index = 1\n",
    "    \"Hello, World!\", # N = index += 1\n",
    "    1,\n",
    "    2.45,\n",
    "    True,\n",
    "    False,\n",
    "    None,\n",
    "    [],\n",
    "    tuple(),\n",
    "    set()\n",
    "]\n",
    "\n",
    "# Random list for education\n",
    "import random\n",
    "random_list = list(range(0, random.randint(10, 100)))\n",
    "\n",
    "# my_nums = 0 -> 6\n",
    "# last index = (count of all elements) - 1\n",
    "my_nums = [10, 20, 30, 55, \"Andrew\", 60, -30, -1.1]\n",
    "print(f\"First item: {my_nums[0]}\")\n",
    "print(f\"Last item: {my_nums[6]}\")\n",
    "\n",
    "# Edit element in list\n",
    "# my_nums[3] = 66 # value 55\n",
    "# my_nums[my_nums.index(55)] = 77\n",
    "\n",
    "# LISTS ARE CHANGABLE\n",
    "my_nums.append(8376)\n",
    "my_nums.insert(0, -98)\n",
    "my_nums.insert(100, \"Alice\")\n",
    "print(my_nums)\n",
    "\n",
    "print(f\"Count of elements in list: {my_nums.count(10)}\")\n",
    "print(f\"Len of list: {len(my_nums)}\")\n",
    "\n",
    "last_element = my_nums[len(my_nums) - 1]\n",
    "print(f\"Last element: {last_element}\")\n",
    "\n",
    "# print(f\"Random list elements count: {len(random_list)}\")\n",
    "# print(random_list[0], random_list[len(random_list) - 1])\n",
    "\n",
    "print(my_nums.remove(\"Andrew\"))  # returns None\n",
    "print(my_nums.pop()) # pop() [no index] -> removes last element\n",
    "print(my_nums.pop(0))\n",
    "print(my_nums)\n",
    "\n",
    "my_nums.sort()  # returns None\n",
    "print(my_nums) # -> asc sorting -N -> +N\n",
    "\n",
    "my_nums.reverse()  # returns None\n",
    "print(my_nums)  # -> desc sorting +N -> -N\n",
    "\n",
    "# Always added to first list to the end (like append)\n",
    "# my_nums.extend(random_list)\n",
    "# random_list.extend(my_nums)\n",
    "# print(random_list)"
   ]
  },
  {
   "cell_type": "code",
   "execution_count": 75,
   "id": "a018a28a-d7f5-452d-93fe-5df720d50316",
   "metadata": {},
   "outputs": [
    {
     "name": "stdout",
     "output_type": "stream",
     "text": [
      "First element: -1\n",
      "Last element: ['Andrew']\n"
     ]
    },
    {
     "ename": "TypeError",
     "evalue": "'tuple' object does not support item assignment",
     "output_type": "error",
     "traceback": [
      "\u001b[0;31m---------------------------------------------------------------------------\u001b[0m",
      "\u001b[0;31mTypeError\u001b[0m                                 Traceback (most recent call last)",
      "Cell \u001b[0;32mIn[75], line 13\u001b[0m\n\u001b[1;32m     11\u001b[0m \u001b[38;5;66;03m# my_tuple[9] = \"Joe\"\u001b[39;00m\n\u001b[1;32m     12\u001b[0m my_tuple[\u001b[38;5;241m10\u001b[39m][\u001b[38;5;241m0\u001b[39m] \u001b[38;5;241m=\u001b[39m \u001b[38;5;124m\"\u001b[39m\u001b[38;5;124mJoe\u001b[39m\u001b[38;5;124m\"\u001b[39m\n\u001b[0;32m---> 13\u001b[0m \u001b[43mmy_tuple\u001b[49m\u001b[43m[\u001b[49m\u001b[38;5;241;43m10\u001b[39;49m\u001b[43m]\u001b[49m \u001b[38;5;241m=\u001b[39m [\u001b[38;5;124m\"\u001b[39m\u001b[38;5;124mJohn\u001b[39m\u001b[38;5;124m\"\u001b[39m]\n\u001b[1;32m     15\u001b[0m \u001b[38;5;66;03m# Type casting ->\u001b[39;00m\n\u001b[1;32m     16\u001b[0m \u001b[38;5;28mprint\u001b[39m( \u001b[38;5;28mlist\u001b[39m(my_tuple) )\n",
      "\u001b[0;31mTypeError\u001b[0m: 'tuple' object does not support item assignment"
     ]
    }
   ],
   "source": [
    "# Tuple\n",
    "# Optimized data type -> speed > list\n",
    "# Not changable data (collection) type!\n",
    "# my_tuple[0] = 0.0 -> not working here\n",
    "\n",
    "# Advanced topic - list in tuple\n",
    "my_tuple = (-1, 0, 1, 2, False, True, None, 1.34, -5, \"Alice\", [\"Andrew\"])\n",
    "print(f\"First element: {my_tuple[0]}\")\n",
    "print(f\"Last element: {my_tuple[len(my_tuple) - 1]}\")\n",
    "\n",
    "# my_tuple[9] = \"Joe\"\n",
    "# my_tuple[10] = [\"John\"]\n",
    "my_tuple[10][0] = \"Joe\"\n",
    "\n",
    "# Type casting ->\n",
    "print( list(my_tuple) )\n",
    "print( tuple(my_nums) )"
   ]
  },
  {
   "cell_type": "code",
   "execution_count": 67,
   "id": "afe1f1c9-7156-463c-a559-b05a2f16cf46",
   "metadata": {},
   "outputs": [
    {
     "name": "stdout",
     "output_type": "stream",
     "text": [
      "orange\n",
      "{'banana', 'apple', 'tomato', 'milk', 'juice', 'orange', 'letuche'}\n",
      "{'apple', 'banana'}\n",
      "basket_1 - basket_2 {'tomato', 'orange'}\n",
      "basket_1 - basket_2 {'juice', 'letuche', 'milk'}\n"
     ]
    }
   ],
   "source": [
    "# Set\n",
    "# Changable data type\n",
    "# Unique items list\n",
    "# my_set = {-1, 0, 1, 1, 2, 2, 3, 3, 3}\n",
    "\n",
    "# Read this ->\n",
    "# my_set = set([-1, 0, 1, 1, 2, 2, 3, 3, 3, \"Alice\", False, False, True, None])\n",
    "# my_set = set([-1, 0, 1, 1, 2, 2, 3, 3, 3, \"Alice\", None, None, \"Alice\", \"Andrew\"])\n",
    "\n",
    "basket_1 = set([\"apple\", \"apple\", \"banana\", \"tomato\", \"orange\"])\n",
    "basket_2 = set([\"milk\", \"apple\", \"banana\", \"letuche\"])\n",
    "basket_2.add(\"juice\")\n",
    "# print( list(basket_1)[0] )\n",
    "\n",
    "# Set operations: union (|), intersection (&), difference (-)\n",
    "print(basket_1 | basket_2)\n",
    "print(basket_1 & basket_2)\n",
    "\n",
    "print(\"basket_1 - basket_2\", basket_1 - basket_2)\n",
    "print(\"basket_1 - basket_2\", basket_2 - basket_1)"
   ]
  }
 ],
 "metadata": {
  "kernelspec": {
   "display_name": "Python 3 (ipykernel)",
   "language": "python",
   "name": "python3"
  },
  "language_info": {
   "codemirror_mode": {
    "name": "ipython",
    "version": 3
   },
   "file_extension": ".py",
   "mimetype": "text/x-python",
   "name": "python",
   "nbconvert_exporter": "python",
   "pygments_lexer": "ipython3",
   "version": "3.12.4"
  }
 },
 "nbformat": 4,
 "nbformat_minor": 5
}
