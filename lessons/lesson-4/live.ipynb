{
 "cells": [
  {
   "cell_type": "code",
   "execution_count": 13,
   "id": "4f5d66c7-159a-4891-a37c-b9e4d03bed35",
   "metadata": {},
   "outputs": [
    {
     "name": "stdout",
     "output_type": "stream",
     "text": [
      "N/2 = 0.5\n",
      "N*2 = 4\n",
      "N/2 = 1.5\n",
      "N*2 = 8\n",
      "N/2 = 2.5\n",
      "N*2 = 12\n",
      "N/2 = 3.5\n",
      "N*2 = 16\n",
      "N/2 = 4.5\n",
      "N*2 = 20\n",
      "it's warm\n",
      "continue working...\n"
     ]
    }
   ],
   "source": [
    "# If-Else\n",
    "# Conditions\n",
    "# \"Branching\"\n",
    "# \"Programm Flow\"\n",
    "\n",
    "# if CONDITION:\n",
    "#   function\n",
    "# else\n",
    "#   function\n",
    "\n",
    "# if True:\n",
    "#     print(\"ALWAYS TRUE\")\n",
    "# else:\n",
    "#     print(\"FALSE\")\n",
    "\n",
    "nums = range(1, 11)\n",
    "for n in nums:\n",
    "    if n % 2 == 0:  # ALWAYS WORKS ON ONLY = True\n",
    "        print(f\"N*2 = {n * 2}\")\n",
    "    else:  # OPPOSIT\n",
    "        print(f\"N/2 = {n / 2}\")\n",
    "\n",
    "# Short if statement\n",
    "# temp = 24.5\n",
    "# if temp >= 20:\n",
    "#     print(\"SHORTS TIME\")\n",
    "\n",
    "# If-If-Else-Else\n",
    "temp = 20\n",
    "if temp >= 20:\n",
    "    print(\"it's warm\")\n",
    "elif temp >= 15:\n",
    "    print(\"it's cold\")\n",
    "elif temp >= 10:\n",
    "    print(\"it's very cold\")\n",
    "elif temp >= 0:\n",
    "    print(\"it's freezing\")\n",
    "else:\n",
    "    print(\"it's over\")\n",
    "\n",
    "print(\"continue working...\")"
   ]
  },
  {
   "cell_type": "code",
   "execution_count": 19,
   "id": "9887261c-6377-469a-95bd-707341c3ca64",
   "metadata": {},
   "outputs": [
    {
     "name": "stdout",
     "output_type": "stream",
     "text": [
      "User has been registered!\n",
      "sunny\n"
     ]
    }
   ],
   "source": [
    "# binary operators\n",
    "# c = a + b\n",
    "\n",
    "# print( bool(\"Y\") )  # True\n",
    "# print( bool(\"N\") )  # True\n",
    "# print( bool(\"False\") )  # True\n",
    "\n",
    "user_input = \"Y\" # Not True or False\n",
    "# user_registered = \"Registered\" if user_input == \"Y\" else \"Not Registered\"\n",
    "user_registered = True if user_input == \"Y\" else False\n",
    "if user_registered:\n",
    "    print(\"User has been registered!\")\n",
    "else:\n",
    "    print(\"No, User has not been registered!\")\n",
    "\n",
    "# Equal record\n",
    "# wheater = None\n",
    "# if temp >= 20:\n",
    "#     wheater = \"sunny\"\n",
    "# else:\n",
    "#     wheater = \"cloudy\"\n",
    "\n",
    "# ternary operator\n",
    "wheater = \"sunny\" if temp >= 20 else \"cloudy\"\n",
    "print(wheater)"
   ]
  }
 ],
 "metadata": {
  "kernelspec": {
   "display_name": "Python 3 (ipykernel)",
   "language": "python",
   "name": "python3"
  },
  "language_info": {
   "codemirror_mode": {
    "name": "ipython",
    "version": 3
   },
   "file_extension": ".py",
   "mimetype": "text/x-python",
   "name": "python",
   "nbconvert_exporter": "python",
   "pygments_lexer": "ipython3",
   "version": "3.12.4"
  }
 },
 "nbformat": 4,
 "nbformat_minor": 5
}
