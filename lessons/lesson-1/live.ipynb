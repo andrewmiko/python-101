{
 "cells": [
  {
   "cell_type": "code",
   "execution_count": 30,
   "id": "82af12b0-7448-44fd-a24b-12e22c8151ca",
   "metadata": {},
   "outputs": [
    {
     "name": "stdout",
     "output_type": "stream",
     "text": [
      "PYTHON - 101\n",
      "python - 101\n",
      "Python - 101\n",
      "AA\n",
      "Children in class is odd: False\n",
      "0\n",
      "1. Movie time =  False\n",
      "2. Movie time =  True\n",
      "3. Study time =  False\n",
      "False\n",
      "True\n",
      "False\n"
     ]
    }
   ],
   "source": [
    "# RAM - Random Access Memory\n",
    "# [][][][][][][][][][][][][][X][][][][][][][][][][][][][][][][][][][][][][X][][][][][][]\n",
    "# [][][][][][][][][][][][][][][][][][][][][][][][][][][][][][][NAME:Alice][][][][][][][][][][][]\n",
    "# [][][][][][][X][][][][][][][][][][][][][X][][][][][][][][][][][][][][][][][][][][][][]\n",
    "# [][][][][][][][][][][][X][X][X][][][][][][][MY_NAME:Andrew][][][][][][][][X][][][][][][][][][][][][][]\n",
    "# [][][][][][][][][][][][][][][][][][][][][][][][][][][][][][][][][][][][][][][][][][]\n",
    "# [][][][][][][][][][][][][][][][X][][][][][][][][][][][][][][][][X][X][X][X][X][X][X][X][X][X]\n",
    "\n",
    "# Variable\n",
    "# \"Key\"\n",
    "name = \"Alice\"  # 129378209399803\n",
    "my_name = \"Andrew\"  # 123719823712938\n",
    "\n",
    "# Simple - Variable Types (data types)\n",
    "age = 23  # <class 'int'>\n",
    "height = 183.4  # <class 'float'>\n",
    "lesson_name = \"Python - 101\"  # <class 'str'>\n",
    "is_weekend = False  # <class 'bool'> : [0|1] : 0 = False | 1 = True\n",
    "\n",
    "# String\n",
    "print(lesson_name.upper())\n",
    "print(lesson_name.lower())\n",
    "print(lesson_name.capitalize())\n",
    "\n",
    "# Operators\n",
    "print(\"A\" + \"A\")\n",
    "\n",
    "# Modulus\n",
    "children_in_class = 20\n",
    "print(f\"Children in class is odd: {bool( children_in_class % 2 )}\")\n",
    "print(15 % 3)\n",
    "\n",
    "# Complex - Variable Types (collections)\n",
    "# tuple, list, set, dictionary..\n",
    "\n",
    "# Dynamic Calendar\n",
    "morning = False\n",
    "evening = True\n",
    "is_weekend = False\n",
    "\n",
    "# 1. Movie time = is_weekend = True, evening = True, morning = True\n",
    "# 2. Movie time = is_weekend = False, evening = True, morning = False\n",
    "# 3. Study time = is_weekend = False, evening = True, morning = True\n",
    "\n",
    "# Alarm Programm\n",
    "print(\"1. Movie time = \", (is_weekend and evening and morning))  # 1. Movie time\n",
    "print(\"2. Movie time = \", (not is_weekend and evening and not morning))  # 2. Movie time\n",
    "print(\"3. Study time = \", (is_weekend and (evening or morning) ))\n",
    "\n",
    "x = True\n",
    "y = False\n",
    "print(x and y)  # False\n",
    "print(x or y)   # True\n",
    "print(not x)    # False\n",
    "\n",
    "# This is example of complex structure\n",
    "# how to compare two variables together\n",
    "\n",
    "# \"\"\"\n",
    "# This is example of complex structure\n",
    "# how to compare two variables together\n",
    "# \"\"\"\n",
    "# if x == y:\n",
    "#     return True\n",
    "# else:\n",
    "#     return False"
   ]
  },
  {
   "cell_type": "code",
   "execution_count": 7,
   "id": "94c0f76c-cb38-4c2e-a1b9-5b5a4854d956",
   "metadata": {},
   "outputs": [
    {
     "name": "stdout",
     "output_type": "stream",
     "text": [
      "4567119024\n",
      "4567259328\n"
     ]
    }
   ],
   "source": [
    "# RAM - Random Access Memory\n",
    "# [][][][][][][][][][][][][][X][][][][][][][][][][][][][][][][][][][][][][X][][][][][][]\n",
    "# [][][][][][][][][][][][][][][][][][][][][][][][][][][][][][][NAME:Alice][][][][][][][][][][][]\n",
    "# [][][][][][][X][][][][][][][][][][][][][X][][][][][][][][][][][][][][][][][][][][][][]\n",
    "# [][][][][][][][][][][][X][X][X][][][][][][][MY_NAME:Andrew][][][][][][][][X][][][][][][][][][][][][][]\n",
    "# [][][][][][][][][][][][][][][][][][][][][P][P][P][P][P][P][P][P][P][P][P][P][P][P][P][P][P][P][P][P]\n",
    "# [][][][][][][][][][][][][][][][X][][][][][][][][][][][][][][][][X][X][X][X][X][X][X][X][X][X]\n",
    "\n",
    "name = \"Andrew\"\n",
    "my_name = \"Alice\"\n",
    "print(id(name))\n",
    "print(id(my_name))"
   ]
  },
  {
   "cell_type": "code",
   "execution_count": 10,
   "id": "99d5a5a2-46e1-44d2-bcee-9cb6adc1c3e7",
   "metadata": {},
   "outputs": [],
   "source": [
    "# Simple Data Types\n",
    "year = 2024\n",
    "month = \"June\"\n",
    "temp = 24.3\n",
    "is_sunny = False\n",
    "\n",
    "# Collections\n",
    "# list, tuple, set, dict\n",
    "\n",
    "# Complex Data Types\n",
    "# classes, functions, objects"
   ]
  },
  {
   "cell_type": "code",
   "execution_count": 36,
   "id": "aa6fd61c-c464-4a4a-86ba-878096f744b6",
   "metadata": {},
   "outputs": [
    {
     "name": "stdout",
     "output_type": "stream",
     "text": [
      "412457095875\n",
      "0.0\n",
      "Number of Articles from DB: 54\n",
      "24\n"
     ]
    }
   ],
   "source": [
    "# Math Operators\n",
    "a = 10\n",
    "b = 3\n",
    "# print(a + b)  # 13\n",
    "# print(a - b)  # 7\n",
    "# print(a * b)  # 30\n",
    "# print(a / b)  # 3.333...\n",
    "# print(a // b) # 3\n",
    "# print(a % b)  # 1\n",
    "# print(a ** b) # 1000\n",
    "\n",
    "import random\n",
    "num_of_coins = random.randint(100, 786438576345)  # gold conins\n",
    "num_of_players = 3\n",
    "\n",
    "print(num_of_coins)\n",
    "print(float(num_of_coins) % float(num_of_players))\n",
    "\n",
    "num_of_articles = random.randint(1, 100)\n",
    "print(f\"Number of Articles from DB: {num_of_articles}\")\n",
    "print(num_of_articles % 30)"
   ]
  },
  {
   "cell_type": "code",
   "execution_count": 47,
   "id": "6bce9035-9261-40ac-af76-56f35f482287",
   "metadata": {},
   "outputs": [
    {
     "name": "stdout",
     "output_type": "stream",
     "text": [
      "False\n",
      "True\n",
      "False\n",
      "Continue login: True\n"
     ]
    }
   ],
   "source": [
    "x = True\n",
    "y = False\n",
    "print(x and y)  # False\n",
    "print(x or y)   # True\n",
    "print(not x)    # False\n",
    "\n",
    "# and => all values must be True!\n",
    "# or => one of the value must be True!\n",
    "# not => \n",
    "\n",
    "sunny = True\n",
    "rainy = False\n",
    "cloudy = not sunny\n",
    "cloudy = not rainy\n",
    "\n",
    "# 3G, LTE, 4G, 5G, 5G+\n",
    "# Wifi\n",
    "m_4g = True\n",
    "m_5g = False\n",
    "m_5g_plus = True\n",
    "good_speed = (m_4g or m_5g)\n",
    "speed_of_light = (m_5g and m_5g_plus)\n",
    "\n",
    "username = \"Andrew\"\n",
    "password = \"password\"\n",
    "continue_login = bool(username and password)\n",
    "print(f\"Continue login: {continue_login}\")"
   ]
  },
  {
   "cell_type": "code",
   "execution_count": 58,
   "id": "48227349-662e-40a9-a4af-1e1d0cce4dac",
   "metadata": {},
   "outputs": [
    {
     "name": "stdout",
     "output_type": "stream",
     "text": [
      "False\n",
      "True\n",
      "False\n",
      "True\n",
      "False\n",
      "True\n",
      "User is admin: False\n",
      "User is admin: False\n",
      "User is not admin: True\n",
      "True\n",
      "True\n",
      "True\n",
      "False\n",
      "False\n"
     ]
    }
   ],
   "source": [
    "a = 10\n",
    "b = 20\n",
    "print(a == b)  # False\n",
    "print(a != b)  # True\n",
    "print(a > b)   # False\n",
    "print(a < b)   # True\n",
    "print(a >= b)  # False\n",
    "print(a <= b)  # True\n",
    "\n",
    "name = \"Alice\" # Assigment\n",
    "name == \"Alice\" # Comparison\n",
    "\n",
    "# username = \"admin\"\n",
    "# print(f\"User is admin: {(username = \"alice\")}\")\n",
    "\n",
    "# x + y = z - запись занчения\n",
    "\n",
    "# Logical comparison (с числами и не только!)\n",
    "# x == y ? - сравнение значения (равно?)\n",
    "# x != y ? - сравнение значения (не равно?)\n",
    "username = \"andrew\"\n",
    "print(f\"User is admin: {(username == \"admin\")}\")\n",
    "print(f\"User is admin: {(username == \"admin\")}\")\n",
    "print(f\"User is not admin: {(username != \"admin\")}\")\n",
    "\n",
    "# Arithmetic comparison (только работа с числами (в основном))\n",
    "# x > y ? - сравнение значения (больше?)\n",
    "# x < y ? - сравнение значения (меньше?)\n",
    "# x >= y ? - сравнение значения\n",
    "# x <= y ? - сравнение значения\n",
    "\n",
    "c = 200\n",
    "d = 300\n",
    "print(c < d)\n",
    "print(c != d)\n",
    "print(c <= d)\n",
    "\n",
    "message_counter = 0\n",
    "print(message_counter > 0)\n",
    "print(message_counter >= 1)"
   ]
  },
  {
   "cell_type": "code",
   "execution_count": 82,
   "id": "db30696a-df0a-4155-a8bf-c4bdd969f295",
   "metadata": {},
   "outputs": [
    {
     "name": "stdout",
     "output_type": "stream",
     "text": [
      "23 <class 'float'> <class 'int'>\n",
      "100.0\n",
      "1734 <class 'int'>\n",
      "True\n"
     ]
    }
   ],
   "source": [
    "age = 23.2\n",
    "print( int(age), type(age), type(int(age)) )\n",
    "\n",
    "f_temp = 100\n",
    "print( float(f_temp) )\n",
    "\n",
    "s_year = \"1734\"\n",
    "print( int(s_year), type(int(s_year)) )\n",
    "\n",
    "b_is_sunny = -1\n",
    "print( bool(b_is_sunny) )"
   ]
  },
  {
   "cell_type": "code",
   "execution_count": 90,
   "id": "bf64be40-7aed-465b-8052-d8c0593bd434",
   "metadata": {},
   "outputs": [
    {
     "name": "stdout",
     "output_type": "stream",
     "text": [
      "False\n",
      "No money\n"
     ]
    }
   ],
   "source": [
    "money_counter = 0\n",
    "is_there_money = None\n",
    "print( bool(is_there_money) )\n",
    "\n",
    "if is_there_money == None:\n",
    "    print(\"No money\")\n",
    "else:\n",
    "    print(\"Yes, there is money\")\n"
   ]
  }
 ],
 "metadata": {
  "kernelspec": {
   "display_name": "Python 3 (ipykernel)",
   "language": "python",
   "name": "python3"
  },
  "language_info": {
   "codemirror_mode": {
    "name": "ipython",
    "version": 3
   },
   "file_extension": ".py",
   "mimetype": "text/x-python",
   "name": "python",
   "nbconvert_exporter": "python",
   "pygments_lexer": "ipython3",
   "version": "3.12.4"
  }
 },
 "nbformat": 4,
 "nbformat_minor": 5
}
