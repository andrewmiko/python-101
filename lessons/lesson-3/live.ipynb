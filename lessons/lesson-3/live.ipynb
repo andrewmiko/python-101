{
 "cells": [
  {
   "cell_type": "code",
   "execution_count": 22,
   "id": "254ce2a0-6f3e-48a4-b2aa-8610efe91a49",
   "metadata": {
    "scrolled": true
   },
   "outputs": [
    {
     "name": "stdout",
     "output_type": "stream",
     "text": [
      "P\n",
      "y\n",
      "t\n",
      "h\n",
      "o\n",
      "n\n",
      " \n"
     ]
    }
   ],
   "source": [
    "# Loops\n",
    "\n",
    "fruits = [\n",
    "    \"apple\",\n",
    "    \"orange\",\n",
    "    \"kiwi\",\n",
    "    \"banana\",\n",
    "    \"watermelon\"\n",
    "]\n",
    "\n",
    "# print( fruits[0] )\n",
    "# print( fruits[1] )\n",
    "# print( fruits[2] )\n",
    "\n",
    "# For Loop\n",
    "# for new_variable in sequence (list, dict, tuple)\n",
    "\n",
    "# For Loop - Code Block\n",
    "# for new_variable_name in sequence (list, dict, tuple) :\n",
    "#   code block\n",
    "\n",
    "# for f in fruits:\n",
    "#     print(f)\n",
    "\n",
    "usernames = (\n",
    "    \"andrew\",\n",
    "    \"alice\",\n",
    "    \"mark\",\n",
    "    \"john\"\n",
    ")\n",
    "\n",
    "# for u in usernames:\n",
    "#     print(u)\n",
    "\n",
    "user = {\n",
    "    \"username\": \"andrew\",\n",
    "    \"email\": \"andrew@gmail.com\",\n",
    "    \"password\": \"password1!\",\n",
    "    \"phone\": \"+34711000179\",\n",
    "}\n",
    "\n",
    "# Dict\n",
    "# .keys() -> return list of keys\n",
    "# .values() -> return list of values\n",
    "# .items() -> return list of key and value pairs\n",
    "\n",
    "# user.keys() -> [key, key...]\n",
    "# for key in user\n",
    "# for key in user.keys():\n",
    "#     print( key )\n",
    "\n",
    "# user.values() -> [value, value...]\n",
    "# for value in user.values():\n",
    "#     print( value )\n",
    "\n",
    "# user.items() -> [(key, value), (key, value)]\n",
    "# for key, value in user.items():\n",
    "#     print( key, value )\n",
    "\n",
    "# player = {\"username\": \"\", \"money\": 1200}\n",
    "# cards = [\"2A\", \"3A\", ... \"J\", \"Q\", \"K\"]\n",
    "\n",
    "word = \"Python\"\n",
    "for letter in word:\n",
    "    print(letter)"
   ]
  },
  {
   "cell_type": "code",
   "execution_count": 27,
   "id": "5a1465fb-e615-46ca-a590-31aef5433500",
   "metadata": {},
   "outputs": [
    {
     "name": "stdout",
     "output_type": "stream",
     "text": [
      "Hello, world!\n",
      "Hello, world!\n",
      "Hello, world!\n",
      "Hello, world!\n",
      "Hello, world!\n",
      "Hello, world!\n",
      "Hello, world!\n",
      "Hello, world!\n",
      "Hello, world!\n",
      "Hello, world!\n"
     ]
    }
   ],
   "source": [
    "# user_input = \"\"\n",
    "# while user_input.lower() != \"exit\":\n",
    "#     user_input = input(\"Type 'exit' to end the loop: \")\n",
    "#     print(f\"You typed: {user_input}\")\n",
    "\n",
    "# Infinite loop - DANGER!\n",
    "# while True:\n",
    "#     print(\"infinite\")\n",
    "\n",
    "condition = 0\n",
    "while condition != 10:\n",
    "    print(\"Hello, world!\")\n",
    "    condition += 1"
   ]
  },
  {
   "cell_type": "code",
   "execution_count": 34,
   "id": "63823a56-8968-4c3b-91cd-c8e543186cd2",
   "metadata": {},
   "outputs": [
    {
     "name": "stdout",
     "output_type": "stream",
     "text": [
      "End of our Loops!\n"
     ]
    }
   ],
   "source": [
    "# This list includes the standard 52 cards (13 cards for each of the four suits:\n",
    "# Diamonds (D), Hearts (H), Spades (S), Clubs (C)) and two Jokers.\n",
    "\n",
    "deck_of_cards = [\n",
    "    \"2D\", \"3D\", \"4D\", \"5D\", \"6D\", \"7D\", \"8D\", \"9D\", \"10D\", \"JD\", \"QD\", \"KD\", \"AD\",\n",
    "    \"2H\", \"3H\", \"4H\", \"5H\", \"6H\", \"7H\", \"8H\", \"9H\", \"10H\", \"JH\", \"QH\", \"KH\", \"AH\",\n",
    "    \"2S\", \"3S\", \"4S\", \"5S\", \"6S\", \"7S\", \"8S\", \"9S\", \"10S\", \"JS\", \"QS\", \"KS\", \"AS\",\n",
    "    \"2C\", \"3C\", \"4C\", \"5C\", \"6C\", \"7C\", \"8C\", \"9C\", \"10C\", \"JC\", \"QC\", \"KC\", \"AC\",\n",
    "    \"Joker1\", \"Joker2\"\n",
    "]\n",
    "\n",
    "random_deck_of_cards = [\n",
    "    '4D', 'Joker2', '8D', 'QD', '10S', '6H', 'AS', '10H', '3C', '5D', 'KC', '6S',\n",
    "    '7D', 'AD', '10C', '2H', '2S', 'JS', '3D', '8S', 'KS', '6D', '4C', '5H', '3S',\n",
    "    'Joker1', 'KH', '9D', '4H', 'QH', 'QC', '4S', '2D', '9H', '2C', '9S', '8H', '8C',\n",
    "    'JD', '7C', 'JC', 'AH', 'QS', '5C', '9C', '3H', '7H', '5S', '6C', 'AC', '7S', '10D'\n",
    "]\n",
    "\n",
    "# Break and Continue\n",
    "we_are_looking_for = \"8S\"\n",
    "# for card in deck_of_cards:\n",
    "#     if we_are_looking_for == card:\n",
    "#         print(f\"{card} - Found it!\")\n",
    "#         break # fully stops loop\n",
    "\n",
    "# we_are_looking_for = \"10H\"\n",
    "# for card in deck_of_cards:\n",
    "#     if we_are_looking_for == card:\n",
    "#         continue  # goes back to the loop\n",
    "#     print( card )\n",
    "\n",
    "print(\"End of our Loops!\")"
   ]
  },
  {
   "cell_type": "code",
   "execution_count": 56,
   "id": "0068fcc8-2d73-4a48-81d4-a261a399b836",
   "metadata": {},
   "outputs": [
    {
     "name": "stdout",
     "output_type": "stream",
     "text": [
      "<class 'range'>\n",
      "range(0, 10) [0, 1, 2, 3, 4, 5, 6, 7, 8, 9]\n",
      "range(1900, 2025) [1900, 1901, 1902, 1903, 1904, 1905, 1906, 1907, 1908, 1909, 1910, 1911, 1912, 1913, 1914, 1915, 1916, 1917, 1918, 1919, 1920, 1921, 1922, 1923, 1924, 1925, 1926, 1927, 1928, 1929, 1930, 1931, 1932, 1933, 1934, 1935, 1936, 1937, 1938, 1939, 1940, 1941, 1942, 1943, 1944, 1945, 1946, 1947, 1948, 1949, 1950, 1951, 1952, 1953, 1954, 1955, 1956, 1957, 1958, 1959, 1960, 1961, 1962, 1963, 1964, 1965, 1966, 1967, 1968, 1969, 1970, 1971, 1972, 1973, 1974, 1975, 1976, 1977, 1978, 1979, 1980, 1981, 1982, 1983, 1984, 1985, 1986, 1987, 1988, 1989, 1990, 1991, 1992, 1993, 1994, 1995, 1996, 1997, 1998, 1999, 2000, 2001, 2002, 2003, 2004, 2005, 2006, 2007, 2008, 2009, 2010, 2011, 2012, 2013, 2014, 2015, 2016, 2017, 2018, 2019, 2020, 2021, 2022, 2023, 2024]\n",
      "range(0, 100, 2) [0, 2, 4, 6, 8, 10, 12, 14, 16, 18, 20, 22, 24, 26, 28, 30, 32, 34, 36, 38, 40, 42, 44, 46, 48, 50, 52, 54, 56, 58, 60, 62, 64, 66, 68, 70, 72, 74, 76, 78, 80, 82, 84, 86, 88, 90, 92, 94, 96, 98]\n",
      "range(1, 100, 2) [1, 3, 5, 7, 9, 11, 13, 15, 17, 19, 21, 23, 25, 27, 29, 31, 33, 35, 37, 39, 41, 43, 45, 47, 49, 51, 53, 55, 57, 59, 61, 63, 65, 67, 69, 71, 73, 75, 77, 79, 81, 83, 85, 87, 89, 91, 93, 95, 97, 99]\n"
     ]
    }
   ],
   "source": [
    "# Range\n",
    "nums = range(10)\n",
    "years = range(1900, 2025)\n",
    "evens = range(0, 100, 2) # [0, 2, 4, N+2]\n",
    "# odds = range(1, 100, 1) [1, 2, 3, N+1]\n",
    "odds = range(1, 100, 2) # [1, 3, 5, N+2]\n",
    "\n",
    "print( type(nums) )\n",
    "print( nums, list(nums) )\n",
    "print( years, list(years) )\n",
    "print( evens, list(evens) )\n",
    "print( odds, list(odds) )\n",
    "\n",
    "# for i in range(1, 8):\n",
    "#     print(i)\n",
    "\n",
    "# for i in range(0, 101, 2):\n",
    "#     print(i)\n",
    "\n",
    "# 1_000_000 = 1000000\n",
    "# for i in range(1_000_000):\n",
    "#     if i % 13 == 0:\n",
    "#         print(i)\n",
    "\n",
    "# while CONDITION(TRUE):\n",
    "#   CODE BLOCK\n",
    "\n",
    "# max_int = 1_000_000\n",
    "# counter = 0\n",
    "# while counter < max_int:\n",
    "#     if counter % 35768 == 0:\n",
    "#         print(counter)\n",
    "#     counter += 1"
   ]
  }
 ],
 "metadata": {
  "kernelspec": {
   "display_name": "Python 3 (ipykernel)",
   "language": "python",
   "name": "python3"
  },
  "language_info": {
   "codemirror_mode": {
    "name": "ipython",
    "version": 3
   },
   "file_extension": ".py",
   "mimetype": "text/x-python",
   "name": "python",
   "nbconvert_exporter": "python",
   "pygments_lexer": "ipython3",
   "version": "3.12.4"
  }
 },
 "nbformat": 4,
 "nbformat_minor": 5
}
