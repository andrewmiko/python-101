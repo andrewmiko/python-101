{
 "cells": [
  {
   "cell_type": "markdown",
   "metadata": {},
   "source": [
    "# Module 1: Functional Programming\n",
    "Course: Advanced Programming for CSAI\n",
    "Spring 2024\n"
   ]
  },
  {
   "cell_type": "markdown",
   "metadata": {},
   "source": [
    "## Introduction to the course notebooks\n",
    "\n",
    "In this course, we will make extensive use of Jupyter Notebooks, with Python 3+. \n",
    "\n",
    "You are advised to work on these notebooks after, or in parallel to, consulting other materials of the module, such as the knowledge clips and/or book chapters. The notebooks contain examples and exercises that should help you understand and apply the concepts introduced in the rest of materials. \n",
    "\n",
    "Do not hesitate to be creative when trying out the examples: you can play with the code. You can try variants of the examples and exercises, print values of the variables to understand what is going on at every step, and come up with different solutions to the same exercise and think about relative advantages of each one.\n",
    "\n",
    "The notebook also contains formative assignments. These are indicated as FA-n, where n is a number id. As explained on the course guide, you have to submit these. Please submit your best effort, and if your solution does not work or you think it is inadequate, add a comment explaining why you could not proceed further. \n",
    "\n",
    "To submit the formative assignments, we ask you to upload the filled-in notebook. The notebook you upload should contain *at least* the formative assigments. It's not a problem if you upload the notebook with additional code, like the variants and tests mentioned above. However, to grade your assignments, we will only look at the answers to the requested exercises (those indicated with FA-n), so make sure you indicate where we can find your answers (or simply place it within the commented lines we designate for it).\n",
    "\n",
    "Optional exercises are, as the name indicates, not mandatory for the formative assignments. These are exercises that suggest you to create an alternative approach, or which propose a longer problem that allows for the integration of earlier concepts in one solution; in general, they present scenarios where you can be more creative. To make the most of the course, it is best to try them out and share your solutions on the Discussion Board, so that your peers can comment on them. You are also encouraged to comment on the exercises of your fellow students. This will help you sharpen your evaluation skills, which is a great asset in programming, as in turn this will help you devise more robust, efficient and maintainable solutions. "
   ]
  },
  {
   "cell_type": "markdown",
   "metadata": {},
   "source": [
    "## The Environment"
   ]
  },
  {
   "cell_type": "code",
   "execution_count": 3,
   "metadata": {},
   "outputs": [
    {
     "name": "stdout",
     "output_type": "stream",
     "text": [
      "1\n",
      "\n",
      "{'__name__': '__main__', '__doc__': 'Automatically created module for IPython interactive environment', '__package__': None, '__loader__': None, '__spec__': None, '__builtin__': <module 'builtins' (built-in)>, '__builtins__': <module 'builtins' (built-in)>, '_ih': ['', 'a=1 #we create a variable and assign it a value\\nprint(a) #we can read the content of this variable because it is stored in the environment\\n\\n#In this case, the variable is in the local environment\\n#You can actually find out what else is in the local environment\\nprint(locals())\\n\\n#Note that locals() returns a dictionary, so we can also directly find our variable:\\nprint(locals()[\"a\"])', 'a=1 #we create a variable and assign it a value\\nprint(a) #we can read the content of this variable because it is stored in the environment\\nprint(\"\")\\n\\n#In this case, the variable is in the local environment\\n#You can actually find out what else is in the local environment\\nprint(locals())\\n\\n#Note that locals() returns a dictionary, so we can also directly find our variable:\\nprint(locals()[\"a\"])', 'a=1 #we create a variable and assign it a value\\nprint(a) #we can read the content of this variable because it is stored in the environment\\nprint(\"\")\\n\\n#In this case, the variable is in the local environment\\n#You can actually find out what else is in the local environment\\nprint(locals())\\nprint(\"\")\\n\\n#Note that locals() returns a dictionary, so we can also directly find our variable:\\nprint(locals()[\"a\"])'], '_oh': {}, '_dh': [WindowsPath('C:/Users/danii/Downloads')], 'In': ['', 'a=1 #we create a variable and assign it a value\\nprint(a) #we can read the content of this variable because it is stored in the environment\\n\\n#In this case, the variable is in the local environment\\n#You can actually find out what else is in the local environment\\nprint(locals())\\n\\n#Note that locals() returns a dictionary, so we can also directly find our variable:\\nprint(locals()[\"a\"])', 'a=1 #we create a variable and assign it a value\\nprint(a) #we can read the content of this variable because it is stored in the environment\\nprint(\"\")\\n\\n#In this case, the variable is in the local environment\\n#You can actually find out what else is in the local environment\\nprint(locals())\\n\\n#Note that locals() returns a dictionary, so we can also directly find our variable:\\nprint(locals()[\"a\"])', 'a=1 #we create a variable and assign it a value\\nprint(a) #we can read the content of this variable because it is stored in the environment\\nprint(\"\")\\n\\n#In this case, the variable is in the local environment\\n#You can actually find out what else is in the local environment\\nprint(locals())\\nprint(\"\")\\n\\n#Note that locals() returns a dictionary, so we can also directly find our variable:\\nprint(locals()[\"a\"])'], 'Out': {}, 'get_ipython': <bound method InteractiveShell.get_ipython of <ipykernel.zmqshell.ZMQInteractiveShell object at 0x0000028BD05EBC10>>, 'exit': <IPython.core.autocall.ZMQExitAutocall object at 0x0000028BD0603F50>, 'quit': <IPython.core.autocall.ZMQExitAutocall object at 0x0000028BD0603F50>, 'open': <function open at 0x0000028BCE583A60>, '_': '', '__': '', '___': '', '_i': 'a=1 #we create a variable and assign it a value\\nprint(a) #we can read the content of this variable because it is stored in the environment\\nprint(\"\")\\n\\n#In this case, the variable is in the local environment\\n#You can actually find out what else is in the local environment\\nprint(locals())\\n\\n#Note that locals() returns a dictionary, so we can also directly find our variable:\\nprint(locals()[\"a\"])', '_ii': 'a=1 #we create a variable and assign it a value\\nprint(a) #we can read the content of this variable because it is stored in the environment\\n\\n#In this case, the variable is in the local environment\\n#You can actually find out what else is in the local environment\\nprint(locals())\\n\\n#Note that locals() returns a dictionary, so we can also directly find our variable:\\nprint(locals()[\"a\"])', '_iii': '', '_i1': 'a=1 #we create a variable and assign it a value\\nprint(a) #we can read the content of this variable because it is stored in the environment\\n\\n#In this case, the variable is in the local environment\\n#You can actually find out what else is in the local environment\\nprint(locals())\\n\\n#Note that locals() returns a dictionary, so we can also directly find our variable:\\nprint(locals()[\"a\"])', 'a': 1, '_i2': 'a=1 #we create a variable and assign it a value\\nprint(a) #we can read the content of this variable because it is stored in the environment\\nprint(\"\")\\n\\n#In this case, the variable is in the local environment\\n#You can actually find out what else is in the local environment\\nprint(locals())\\n\\n#Note that locals() returns a dictionary, so we can also directly find our variable:\\nprint(locals()[\"a\"])', '_i3': 'a=1 #we create a variable and assign it a value\\nprint(a) #we can read the content of this variable because it is stored in the environment\\nprint(\"\")\\n\\n#In this case, the variable is in the local environment\\n#You can actually find out what else is in the local environment\\nprint(locals())\\nprint(\"\")\\n\\n#Note that locals() returns a dictionary, so we can also directly find our variable:\\nprint(locals()[\"a\"])'}\n",
      "\n",
      "1\n"
     ]
    }
   ],
   "source": [
    "a=1 #we create a variable and assign it a value\n",
    "print(a) #we can read the content of this variable because it is stored in the environment\n",
    "print(\"\")\n",
    "\n",
    "#In this case, the variable is in the local environment\n",
    "#You can actually find out what else is in the local environment\n",
    "print(locals())\n",
    "print(\"\")\n",
    "\n",
    "#Note that locals() returns a dictionary, so we can also directly find our variable:\n",
    "print(locals()[\"a\"])\n"
   ]
  },
  {
   "cell_type": "code",
   "execution_count": 4,
   "metadata": {},
   "outputs": [
    {
     "name": "stdout",
     "output_type": "stream",
     "text": [
      "<function first_function at 0x0000028BD05EF600>\n"
     ]
    }
   ],
   "source": [
    "#Functions themselves are also stored in locals:\n",
    "def first_function(arg1):\n",
    "    aux=arg1*4\n",
    "    return aux\n",
    "\n",
    "# You can see it here (commented to avoid long print ;) ) \n",
    "#print(locals())\n",
    "\n",
    "#Or to find it quickly:\n",
    "print(locals()[\"first_function\"])\n",
    "\n",
    "\n",
    "\n"
   ]
  },
  {
   "cell_type": "code",
   "execution_count": 6,
   "metadata": {},
   "outputs": [
    {
     "name": "stdout",
     "output_type": "stream",
     "text": [
      "aux: 28\n",
      "arg1: 7\n"
     ]
    },
    {
     "data": {
      "text/plain": [
       "28"
      ]
     },
     "execution_count": 6,
     "metadata": {},
     "output_type": "execute_result"
    }
   ],
   "source": [
    "#The variables defined in the function become part of the local namespace only while we are inside the function:\n",
    "def first_function(arg1):\n",
    "    aux=arg1*4\n",
    "    print(\"aux:\", locals()[\"aux\"])\n",
    "    print(\"arg1:\", locals()[\"arg1\"])\n",
    "    return aux\n",
    "\n",
    "first_function(7)\n",
    "\n",
    "#But as you know, we cannot access the variables in first_function when we are outside the function.\n",
    "#The following call should fail:\n",
    "#print(aux) #uncomment to see it fail\n",
    "#As you can see, the error of this function is actually known to you: it's a NameError exception!\n",
    "\n",
    "\n",
    "#Now you know can understand what happens before the NameError exception takes place: \n",
    "#the Python interpreter tries to access a variable that is not in the environment.\n",
    "\n",
    "#It would first look into locals(), then globals(), then builtins.\n",
    "#(Note that for builtins there is no function that returns a dictionary: we need to import them directly\n",
    "#import builtins\n",
    "#dir(builtins)\n",
    "#See that you can find locals and globals listed in builtins :)\n",
    "\n",
    "\n"
   ]
  },
  {
   "cell_type": "markdown",
   "metadata": {},
   "source": [
    "## Pure functions\n",
    "\n",
    "Pure functions always return the same results when the same arguments are given to it.\n",
    "\n",
    "Look at the following function. Do you think this function is pure?\n"
   ]
  },
  {
   "cell_type": "code",
   "execution_count": 9,
   "metadata": {},
   "outputs": [
    {
     "name": "stdout",
     "output_type": "stream",
     "text": [
      "6\n"
     ]
    }
   ],
   "source": [
    "def foo(a1, a2):\n",
    "    a1+=3*a2\n",
    "    return a1\n",
    "\n",
    "b=foo(3,1)\n",
    "print(b)\n",
    "\n",
    "#This function will always return the same value for 3 and 1.\n",
    "#Why?\n",
    "#1) Does the function depend on the state of the environment?\n",
    "#To answer this question, we have look at whether the function needs anything from the\n",
    "#environment *outside the function*. This is not true: this function only depends on its local variables.\n",
    "#(Note that the arguments given to the function become part of its local scope)\n",
    "\n",
    "#2) Does the function modify the environment?\n",
    "#Pure functions can only affect the environment with their return value. \n",
    "#After this function finishes, the only change in the environment is indeed that b takes the return value. \n",
    "#The rest remains the same.\n",
    "\n",
    "#Therefore, this function is pure."
   ]
  },
  {
   "cell_type": "markdown",
   "metadata": {},
   "source": [
    "#### FA-1:\n",
    "\n",
    "How about the following function (foo)? Is it pure? Why or why not?"
   ]
  },
  {
   "cell_type": "code",
   "execution_count": 7,
   "metadata": {},
   "outputs": [
    {
     "name": "stdout",
     "output_type": "stream",
     "text": [
      "[0, 6, 'bla', 4]\n"
     ]
    }
   ],
   "source": [
    "def foo(list1, list2):\n",
    "    list2.append('bla')\n",
    "    list2.extend(list1)\n",
    "    list3=[x for i,x in enumerate(list2) if i%2==0]\n",
    "    return list3\n",
    "\n",
    "list1=[3,4,5]\n",
    "list2=[0,8,6,4]\n",
    "\n",
    "print(foo(list1, list2))\n",
    "\n"
   ]
  },
  {
   "cell_type": "markdown",
   "metadata": {},
   "source": [
    "Run the following code and see what happened to the arguments after calling the function. Why does this happen? What does this say about the purity of this function?"
   ]
  },
  {
   "cell_type": "code",
   "execution_count": 6,
   "metadata": {},
   "outputs": [
    {
     "name": "stdout",
     "output_type": "stream",
     "text": [
      "[3, 4, 5]\n",
      "[0, 8, 6, 4, 'bla', 3, 4, 5]\n"
     ]
    }
   ],
   "source": [
    "print(list1)\n",
    "print(list2)\n",
    "\n",
    "## Add your answer to FA-1 here: ##############################\n",
    "\n",
    "### Foo is not pure because there exists list 3 \n",
    "\n",
    "##############################################################"
   ]
  },
  {
   "cell_type": "markdown",
   "metadata": {},
   "source": [
    "#### FA-2:\n",
    "\n",
    "Is toggle_mode a pure function? Why?"
   ]
  },
  {
   "cell_type": "code",
   "execution_count": 10,
   "metadata": {},
   "outputs": [
    {
     "name": "stdout",
     "output_type": "stream",
     "text": [
      "0\n",
      "1\n"
     ]
    }
   ],
   "source": [
    "mode = 0\n",
    "\n",
    "def toggle_mode():\n",
    "    global mode    \n",
    "    mode = 1 if not mode else 0\n",
    "    \n",
    "print(mode)\n",
    "toggle_mode()\n",
    "print(mode)\n",
    "\n",
    "## Add your answer here: ##############################\n",
    "\n",
    "#not Pure function, because the result is not same \n",
    "\n",
    "#######################################################"
   ]
  },
  {
   "cell_type": "markdown",
   "metadata": {},
   "source": [
    "#### FA-3:\n",
    "\n",
    "How about this version of toggle_mode? Is it pure? Why?"
   ]
  },
  {
   "cell_type": "code",
   "execution_count": 11,
   "metadata": {},
   "outputs": [
    {
     "name": "stdout",
     "output_type": "stream",
     "text": [
      "0\n",
      "1\n"
     ]
    }
   ],
   "source": [
    "mode = 0\n",
    "\n",
    "def toggle_mode(mode):\n",
    "    mode = 1 if not mode else 0\n",
    "    return mode\n",
    "    \n",
    "print(mode)\n",
    "mode=toggle_mode(mode)\n",
    "print(mode)\n",
    "\n",
    "## Add your answer here: ##############################\n",
    "\n",
    "#not Pure function, because the result is not same \n",
    "\n",
    "#######################################################"
   ]
  },
  {
   "cell_type": "markdown",
   "metadata": {},
   "source": [
    "### Lambda functions\n",
    "\n",
    "\n",
    "A recap: lambda expressions create anonymous functions.\n",
    "\n"
   ]
  },
  {
   "cell_type": "code",
   "execution_count": 12,
   "metadata": {},
   "outputs": [
    {
     "name": "stdout",
     "output_type": "stream",
     "text": [
      "<function <lambda> at 0x0000028BD06940E0>\n",
      "<built-in function abs>\n"
     ]
    }
   ],
   "source": [
    "#Example of the definition of a lambda function:\n",
    "lambda x: print(\"-{}.\".format(x))\n",
    "\n",
    "#We can't call this lambda function because it doesn't have a name!\n",
    "\n",
    "#See the difference between these:\n",
    "print(lambda x: print(\"-{}.\".format(x)))\n",
    "print(abs)\n"
   ]
  },
  {
   "cell_type": "code",
   "execution_count": 13,
   "metadata": {},
   "outputs": [
    {
     "name": "stdout",
     "output_type": "stream",
     "text": [
      "-bla.\n"
     ]
    }
   ],
   "source": [
    "#We can assign lambda functions it to a variable:\n",
    "f=lambda x: print(\"-{}.\".format(x))\n",
    "\n",
    "#And now we can call it:\n",
    "f(\"bla\")"
   ]
  },
  {
   "cell_type": "markdown",
   "metadata": {},
   "source": [
    "Lambda functions are restricted to a single expression. Thanks to this constraint, we cannot create a lambda function that is not pure."
   ]
  },
  {
   "cell_type": "code",
   "execution_count": 14,
   "metadata": {},
   "outputs": [
    {
     "name": "stdout",
     "output_type": "stream",
     "text": [
      "5\n"
     ]
    }
   ],
   "source": [
    "#Note that expressions do not allow for variable assignment:\n",
    "#f=lambda x, y: x+=y\n",
    "#this fails, because x+=y is an assignment\n",
    "\n",
    "#This one works:\n",
    "\n",
    "f=lambda x, y: x+y\n",
    "\n",
    "print(f(2,3))"
   ]
  },
  {
   "cell_type": "markdown",
   "metadata": {},
   "source": [
    "We can also use the *args construct with lambda:"
   ]
  },
  {
   "cell_type": "code",
   "execution_count": 15,
   "metadata": {},
   "outputs": [
    {
     "name": "stdout",
     "output_type": "stream",
     "text": [
      "a-b-c\n"
     ]
    }
   ],
   "source": [
    "f=lambda *args: print(\"-\".join(args))\n",
    "\n",
    "f(\"a\", \"b\", \"c\")"
   ]
  },
  {
   "cell_type": "markdown",
   "metadata": {},
   "source": [
    "## Higher-order functions\n",
    "\n",
    "Higher-order functions are functions that accept functions as an argument, or return a function (or both).\n",
    "\n",
    "We have seen some examples of built-in higher-order functions in the class materials. Let's now play with some examples and exercises. \n",
    "\n",
    "You can check the definition of the built-in functions in the official Python documentation https://docs.python.org/3/library/functions.html . \n"
   ]
  },
  {
   "cell_type": "markdown",
   "metadata": {},
   "source": [
    "### Map\n",
    "\n",
    "Map functions allow us to apply a function to every element of an iterable.\n",
    "\n",
    "If you look at its definition, you will see that the first argument to map is a function: https://docs.python.org/3/library/functions.html#map\n",
    "\n",
    "Therefore, map is a higher-order function.\n",
    "\n",
    "\n",
    "#### FA-4:\n",
    "\n",
    "Use *map* to capitalize each element in reciepe1.\n",
    "\n",
    "Hint: *str.capitalize()* may come in handy."
   ]
  },
  {
   "cell_type": "code",
   "execution_count": 34,
   "metadata": {},
   "outputs": [
    {
     "name": "stdout",
     "output_type": "stream",
     "text": [
      "lemon, rosemary, codfish, wine\n",
      "['Lemon', 'Rosemary', 'Codfish', 'Wine']\n"
     ]
    }
   ],
   "source": [
    "reciepe1 = ['lemon', 'rosemary', 'codfish', 'wine']\n",
    "\n",
    "## Your solution goes here:\n",
    "\n",
    "s = ', '.join(reciepe1)\n",
    "s.split()\n",
    "print(s)\n",
    " \n",
    "#result = s.capitalize()\n",
    "#print(result)\n",
    "\n",
    "result = []\n",
    "for i in reciepe1:\n",
    "    i = i.capitalize()\n",
    "\n",
    "    result.append(i)    \n",
    "    \n",
    "\n",
    "###########################\n",
    "\n",
    "\n",
    "print(list(result)) #=> ['Lemon', 'Rosemary', 'Codfish', 'Wine']\n"
   ]
  },
  {
   "cell_type": "markdown",
   "metadata": {},
   "source": [
    "We will now use higher-order functions to retrieve and format relatively complex data.\n",
    "\n",
    "The data below contains a collection of trips. It is structured in the following way: \n",
    "\n",
    "-- each element in the outermost tuple has three items: a starting location, an ending location, and a\n",
    "distance between those\n",
    "\n",
    "-- the starting and ending locations are tuples\n",
    "\n",
    "-- the locations are given in latitude and longitude pairs. \n",
    "\n",
    "-- the east latitude is positive, so these are points along the US East Coast, about 76° west. \n",
    "\n",
    "-- the distances between points are in nautical miles."
   ]
  },
  {
   "cell_type": "code",
   "execution_count": 67,
   "metadata": {},
   "outputs": [],
   "source": [
    "data = (\n",
    "((37.54901619777347, -76.33029518659048), (37.840832, -76.273834),\n",
    "17.7246),\n",
    "((37.840832, -76.273834), (38.331501, -76.459503), 30.7382),\n",
    "((38.331501, -76.459503), (38.845501, -76.537331), 31.0756),\n",
    "((36.843334, -76.298668), (37.549, -76.331169), 42.3962),\n",
    "((37.549, -76.331169), (38.330166, -76.458504), 47.2866),\n",
    "((38.330166, -76.458504), (38.976334, -76.473503), 38.8019)\n",
    ")"
   ]
  },
  {
   "cell_type": "markdown",
   "metadata": {},
   "source": [
    "#### FA-5:\n",
    "\n",
    "Our goal is to  find the shortest and longest trips (i.e. those with shorter or larger distance).\n",
    "\n",
    "\n",
    "First, define a function *dist* which receives a trip as an argument (i.e. a tuple with the 3 elements described above) and returns only the distance (i.e. the third element).\n",
    "\n"
   ]
  },
  {
   "cell_type": "code",
   "execution_count": 104,
   "metadata": {},
   "outputs": [
    {
     "data": {
      "text/plain": [
       "17.7246"
      ]
     },
     "execution_count": 104,
     "metadata": {},
     "output_type": "execute_result"
    }
   ],
   "source": [
    "## Your solution goes here:\n",
    "\n",
    "def dist(x):\n",
    "    return x[2]\n",
    "\n",
    "###########################\n",
    "\n",
    "dist(data[0]) #=> 17.7246"
   ]
  },
  {
   "cell_type": "markdown",
   "metadata": {},
   "source": [
    "#### FA-6: \n",
    "\n",
    "Now let's use higher-order functions: use dist as the key to built-in functions *min* and *max* to"
   ]
  },
  {
   "cell_type": "code",
   "execution_count": 114,
   "metadata": {},
   "outputs": [
    {
     "name": "stdout",
     "output_type": "stream",
     "text": [
      "((37.549, -76.331169), (38.330166, -76.458504), 47.2866)\n",
      "((37.54901619777347, -76.33029518659048), (37.840832, -76.273834), 17.7246)\n"
     ]
    }
   ],
   "source": [
    "## Your solution goes here:\n",
    "\n",
    "longest = max(data, key=lambda yc: yc[2])\n",
    "shortest = min(data, key=lambda yc: yc[2])\n",
    "\n",
    "###########################\n",
    "\n",
    "\n",
    "\n",
    "print(longest) #=> ((37.549, -76.331169), (38.330166, -76.458504), 47.2866)\n",
    "print(shortest) #=> ((37.54901619777347, -76.33029518659048), (37.840832, -76.273834), 17.7246)"
   ]
  },
  {
   "cell_type": "markdown",
   "metadata": {},
   "source": [
    "#### FA-7:\n",
    "\n",
    "We can now use *dist* for many other manipulations of the data. For instance, use the function *sorted* to sort the data, but do so such that the sorting criterion is the distance."
   ]
  },
  {
   "cell_type": "code",
   "execution_count": 120,
   "metadata": {},
   "outputs": [
    {
     "name": "stdout",
     "output_type": "stream",
     "text": [
      "[((37.54901619777347, -76.33029518659048), (37.840832, -76.273834), 17.7246), ((37.840832, -76.273834), (38.331501, -76.459503), 30.7382), ((38.331501, -76.459503), (38.845501, -76.537331), 31.0756), ((38.330166, -76.458504), (38.976334, -76.473503), 38.8019), ((36.843334, -76.298668), (37.549, -76.331169), 42.3962), ((37.549, -76.331169), (38.330166, -76.458504), 47.2866)]\n"
     ]
    }
   ],
   "source": [
    "## Your solution goes here:\n",
    "\n",
    "sorted_data = sorted(data, key=lambda yc: yc[2])\n",
    "\n",
    "###########################\n",
    "\n",
    "\n",
    "print(sorted_data) #=> [((37.549, -76.331169), (38.330166, -76.458504), 47.2866), ...\n",
    "\n",
    "#Note that the original data remains unchanged. Why is this a desirable property?\n",
    "#print(sorted_data) #=> (((37.54901619777347, -76.33029518659048), (37.840832, -76.273834), 17.7246), ..."
   ]
  },
  {
   "cell_type": "markdown",
   "metadata": {},
   "source": [
    "#### FA-8:\n",
    "\n",
    "Define two additional lambda functions *start* and *end* that give us the start and the end of a trip."
   ]
  },
  {
   "cell_type": "code",
   "execution_count": 125,
   "metadata": {},
   "outputs": [
    {
     "name": "stdout",
     "output_type": "stream",
     "text": [
      "(37.54901619777347, -76.33029518659048)\n",
      "(37.840832, -76.273834)\n"
     ]
    }
   ],
   "source": [
    "## Your solution goes here:\n",
    "\n",
    "start = x = lambda a : a[0]\n",
    "end = x = lambda a : a[1]\n",
    "###########################\n",
    "\n",
    "\n",
    "\n",
    "\n",
    "#Check the start and end of the first trip (data[0]):\n",
    "print(start(data[0])) #=> (37.54901619777347, -76.33029518659048)\n",
    "print(end(data[0])) #=> (37.840832, -76.273834)"
   ]
  },
  {
   "cell_type": "markdown",
   "metadata": {},
   "source": [
    "#### FA-9:\n",
    "\n",
    "Let's say we want to convert our distances from nautical miles to statute miles. We\n",
    "want to multiply each distance by 6076.12/5280, which is 1.150780.\n",
    "\n",
    "First let's write a function *to_statute_miles* that applies this conversion to one trip."
   ]
  },
  {
   "cell_type": "code",
   "execution_count": 144,
   "metadata": {},
   "outputs": [
    {
     "name": "stdout",
     "output_type": "stream",
     "text": [
      "((37.54901619777347, -76.33029518659048), (37.840832, -76.273834), 20.397115187999997)\n"
     ]
    }
   ],
   "source": [
    "## Your solution goes here:\n",
    "def to_statute_miles(x):\n",
    "    x = data[0][2]*1.150780\n",
    "    return data[0][0],data[0][1],x\n",
    "###########################\n",
    "\n",
    "print(to_statute_miles(data[0])) #-> ((37.54901619777347, -76.33029518659048), (37.840832, -76.273834), 20.397120559090908)"
   ]
  },
  {
   "cell_type": "markdown",
   "metadata": {},
   "source": [
    "#### FA-10:\n",
    "\n",
    "Now use *map* to reformat the whole dataset with the function defined above."
   ]
  },
  {
   "cell_type": "code",
   "execution_count": 153,
   "metadata": {},
   "outputs": [
    {
     "name": "stdout",
     "output_type": "stream",
     "text": [
      "(((37.54901619777347, -76.33029518659048), (37.840832, -76.273834), 32.8259592), ((37.840832, -76.273834), (38.331501, -76.459503), 56.9271464), ((38.331501, -76.459503), (38.845501, -76.537331), 57.5520112), ((36.843334, -76.298668), (37.549, -76.331169), 78.51776240000001), ((37.549, -76.331169), (38.330166, -76.458504), 87.5747832), ((38.330166, -76.458504), (38.976334, -76.473503), 71.86111880000001))\n"
     ]
    }
   ],
   "source": [
    "## Your solution goes here:\n",
    "new_data = map(to_km, data)\n",
    "\n",
    "###########################\n",
    "\n",
    "print(tuple(new_data)) #=> [((37.54901619777347, -76.33029518659048), (37.840832, -76.273834), 20.397120559090908), ..."
   ]
  },
  {
   "cell_type": "markdown",
   "metadata": {},
   "source": [
    "Let's write another function *to_km* to convert the nautical miles to kilometers (i.e. multiply the original nautical miles with 1.852)."
   ]
  },
  {
   "cell_type": "code",
   "execution_count": 145,
   "metadata": {},
   "outputs": [],
   "source": [
    "to_km = lambda x:(start(x),end(x),dist(x)*1.852) "
   ]
  },
  {
   "cell_type": "markdown",
   "metadata": {},
   "source": [
    "#### FA-11:\n",
    "\n",
    "We may want to apply either to_statute_miles or to_km to our dataset. Write a function convert that takes either function as an input argument, and applies it to the data. \n",
    "\n"
   ]
  },
  {
   "cell_type": "code",
   "execution_count": 166,
   "metadata": {},
   "outputs": [
    {
     "name": "stdout",
     "output_type": "stream",
     "text": [
      "(((37.54901619777347, -76.33029518659048), (37.840832, -76.273834), 17.7246), ((37.840832, -76.273834), (38.331501, -76.459503), 30.7382), ((38.331501, -76.459503), (38.845501, -76.537331), 31.0756), ((36.843334, -76.298668), (37.549, -76.331169), 42.3962), ((37.549, -76.331169), (38.330166, -76.458504), 47.2866), ((38.330166, -76.458504), (38.976334, -76.473503), 38.8019)) \n",
      "\n",
      "(((37.54901619777347, -76.33029518659048), (37.840832, -76.273834), 17.7246), ((37.840832, -76.273834), (38.331501, -76.459503), 30.7382), ((38.331501, -76.459503), (38.845501, -76.537331), 31.0756), ((36.843334, -76.298668), (37.549, -76.331169), 42.3962), ((37.549, -76.331169), (38.330166, -76.458504), 47.2866), ((38.330166, -76.458504), (38.976334, -76.473503), 38.8019)) \n",
      "\n",
      "(((37.54901619777347, -76.33029518659048), (37.840832, -76.273834), 17.7246), ((37.840832, -76.273834), (38.331501, -76.459503), 30.7382), ((38.331501, -76.459503), (38.845501, -76.537331), 31.0756), ((36.843334, -76.298668), (37.549, -76.331169), 42.3962), ((37.549, -76.331169), (38.330166, -76.458504), 47.2866), ((38.330166, -76.458504), (38.976334, -76.473503), 38.8019))\n"
     ]
    }
   ],
   "source": [
    "## Your solution goes here:\n",
    "\n",
    "def convert(f,k):\n",
    "    return f and k\n",
    "\n",
    "###########################\n",
    "\n",
    "data_km = convert(to_km, data)\n",
    "print(tuple(data_km), \"\\n\") #=> [((37.54901619777347, -76.33029518659048), (37.840832, -76.273834), 32.8259592), ...\n",
    "\n",
    "data_sm = convert(to_statute_miles, data)\n",
    "print(tuple(data_sm), \"\\n\") #=> [((37.54901619777347, -76.33029518659048), (37.840832, -76.273834), 20.397120559090908), ...\n",
    "\n",
    "#Note again that the original data has not changed!\n",
    "print(data) #=> (((37.54901619777347, -76.33029518659048), (37.840832, -76.273834), 17.7246),"
   ]
  },
  {
   "cell_type": "markdown",
   "metadata": {},
   "source": [
    "### Composing functions with reduce"
   ]
  },
  {
   "cell_type": "markdown",
   "metadata": {},
   "source": [
    "As you know, reduce can be a very useful function, although quite difficult to get used to it. Be patient with these exercises :)\n",
    "\n",
    "Before using reduce, let's create some auxiliary functions. \n",
    "\n",
    "#### FA-12:\n",
    "\n",
    "Create a lambda function *double* that returns the double of an integer."
   ]
  },
  {
   "cell_type": "code",
   "execution_count": 168,
   "metadata": {},
   "outputs": [
    {
     "data": {
      "text/plain": [
       "6"
      ]
     },
     "execution_count": 168,
     "metadata": {},
     "output_type": "execute_result"
    }
   ],
   "source": [
    "## Your solution goes here:\n",
    "\n",
    "###########################\n",
    "\n",
    "double = lambda a : a*2\n",
    "\n",
    "\n",
    "double(3) #=> 6"
   ]
  },
  {
   "cell_type": "markdown",
   "metadata": {},
   "source": [
    "#### FA-13:\n",
    "\n",
    "Create a function *clist* that takes an arbitrary number of arguments and creates a list of the arguments. \n",
    "\n",
    "**Hint:** the *&ast;args* construct can come in handy. "
   ]
  },
  {
   "cell_type": "code",
   "execution_count": 174,
   "metadata": {},
   "outputs": [
    {
     "data": {
      "text/plain": [
       "[1, 2, 3, 4, 5, 6]"
      ]
     },
     "execution_count": 174,
     "metadata": {},
     "output_type": "execute_result"
    }
   ],
   "source": [
    "## Your solution goes here: hz\n",
    "\n",
    "def clist(*argv):\n",
    "    c = []\n",
    "    for arg in argv:\n",
    "        c.append(arg)\n",
    "    return c\n",
    "\n",
    "###########################\n",
    "\n",
    "\n",
    "clist(1, 2, 3) # should return [1, 2, 3]\n",
    "clist(1, 2, 3, 4, 5, 6) # should return [1, 2, 3, 4, 5, 6]"
   ]
  },
  {
   "cell_type": "markdown",
   "metadata": {},
   "source": [
    "#### FA-14:\n",
    "\n",
    "Create a function *mult* that takes an arbitrary number of arguments, and multiplies them all. Use *reduce* to implement it.\n",
    "\n",
    "**Hint**: revisit the lecture, and look for an example of *reduce* applied to only two arguments. Generalize it to multiple arguments using *&ast;args*."
   ]
  },
  {
   "cell_type": "code",
   "execution_count": 7,
   "metadata": {},
   "outputs": [
    {
     "data": {
      "text/plain": [
       "24"
      ]
     },
     "execution_count": 7,
     "metadata": {},
     "output_type": "execute_result"
    }
   ],
   "source": [
    "from functools import reduce\n",
    "\n",
    "## Your solution goes here:\n",
    "def mult(*args):\n",
    "    return reduce(lambda a, b: a * b, args)\n",
    "\n",
    "###########################\n",
    "\n",
    "mult(3,4,2) #=>24"
   ]
  },
  {
   "cell_type": "markdown",
   "metadata": {},
   "source": [
    "#### FA-15:\n",
    "\n",
    "Create a function *sub* that subtracts all the arguments from the first argument (except itself). Use *reduce* to implement it."
   ]
  },
  {
   "cell_type": "code",
   "execution_count": 11,
   "metadata": {},
   "outputs": [
    {
     "name": "stdout",
     "output_type": "stream",
     "text": [
      "2\n",
      "5\n"
     ]
    }
   ],
   "source": [
    "## Your solution goes here:\n",
    "\n",
    "from functools import reduce\n",
    "\n",
    "## Your solution goes here:\n",
    "def sub(*args):\n",
    "    return reduce(lambda a, b: a - b, args)\n",
    "\n",
    "###########################\n",
    "\n",
    "print(sub(5, 1, 2)) # => 2\n",
    "print(sub(9,3,1)) #=>5\n",
    "\n"
   ]
  },
  {
   "cell_type": "markdown",
   "metadata": {},
   "source": [
    "#### FA-16:\n",
    "\n",
    "Create a function *compose* that takes 2 functions and does function composition, i.e. *compose(double, sub)* should return a function that first calls *sub* and then *double* on its argument(s)."
   ]
  },
  {
   "cell_type": "code",
   "execution_count": 16,
   "metadata": {},
   "outputs": [
    {
     "ename": "TypeError",
     "evalue": "'tuple' object is not callable",
     "output_type": "error",
     "traceback": [
      "\u001b[1;31m---------------------------------------------------------------------------\u001b[0m",
      "\u001b[1;31mTypeError\u001b[0m                                 Traceback (most recent call last)",
      "Cell \u001b[1;32mIn[16], line 10\u001b[0m\n\u001b[0;32m      4\u001b[0m     \u001b[38;5;28;01mreturn\u001b[39;00m x\u001b[38;5;241m*\u001b[39m\u001b[38;5;241m2\u001b[39m\n\u001b[0;32m      8\u001b[0m \u001b[38;5;66;03m###########################\u001b[39;00m\n\u001b[1;32m---> 10\u001b[0m result\u001b[38;5;241m=\u001b[39mcompose(double,sub)(\u001b[38;5;241m24\u001b[39m,\u001b[38;5;241m3\u001b[39m,\u001b[38;5;241m4\u001b[39m) \n\u001b[0;32m     11\u001b[0m \u001b[38;5;28mprint\u001b[39m(result)\u001b[38;5;66;03m#=> 34\u001b[39;00m\n\u001b[0;32m     12\u001b[0m result2\u001b[38;5;241m=\u001b[39mcompose(double,sub)(\u001b[38;5;241m5\u001b[39m,\u001b[38;5;241m1\u001b[39m,\u001b[38;5;241m2\u001b[39m)\n",
      "\u001b[1;31mTypeError\u001b[0m: 'tuple' object is not callable"
     ]
    }
   ],
   "source": [
    "## Your solution goes here:\n",
    "\n",
    "\n",
    "\n",
    "###########################\n",
    "\n",
    "result=compose(double,sub)(24,3,4) \n",
    "print(result)#=> 34\n",
    "result2=compose(double,sub)(5,1,2)\n",
    "print(result2) #=> 4\n",
    "\n",
    "#Once you have a working function, check what happens with the following call:\n",
    "#result3=compose(sub,double)(5,1,2)"
   ]
  },
  {
   "cell_type": "markdown",
   "metadata": {},
   "source": [
    "#### FA-17:\n",
    "\n",
    "Now create another version of *compose* that takes any number of functions (instead of only 2). Use *reduce*."
   ]
  },
  {
   "cell_type": "code",
   "execution_count": null,
   "metadata": {},
   "outputs": [],
   "source": [
    "## Your solution goes here:\n",
    "\n",
    "\n",
    "\n",
    "\n",
    "###########################\n",
    "\n",
    "\n",
    "composite_function(clist, double, sub)(30, 10,5) #=>[30]"
   ]
  },
  {
   "cell_type": "markdown",
   "metadata": {},
   "source": [
    "#### FA-18:\n",
    "\n",
    "Create a function that takes a list of numbers and returns how many of them are even. Use *reduce*.\n",
    "\n",
    "**Hint**: one of the optional arguments of *reduce* is the initial value. It can be useful for your implementation."
   ]
  },
  {
   "cell_type": "code",
   "execution_count": 18,
   "metadata": {},
   "outputs": [
    {
     "name": "stdout",
     "output_type": "stream",
     "text": [
      "6\n"
     ]
    }
   ],
   "source": [
    "## Your solution goes here:\n",
    "\n",
    "def count(lst):\n",
    "    return reduce(lambda count, num: count + (1 if num % 2 == 0 else 0), lst, 0)\n",
    "\n",
    "###########################\n",
    "\n",
    "values = [22, 4, 12, 43, 19, 71, 20, 4, 7, 80]\n",
    "\n",
    "print(count(values)) #=> 6"
   ]
  },
  {
   "cell_type": "code",
   "execution_count": null,
   "metadata": {},
   "outputs": [],
   "source": []
  }
 ],
 "metadata": {
  "kernelspec": {
   "display_name": "Python 3 (ipykernel)",
   "language": "python",
   "name": "python3"
  },
  "language_info": {
   "codemirror_mode": {
    "name": "ipython",
    "version": 3
   },
   "file_extension": ".py",
   "mimetype": "text/x-python",
   "name": "python",
   "nbconvert_exporter": "python",
   "pygments_lexer": "ipython3",
   "version": "3.11.5"
  }
 },
 "nbformat": 4,
 "nbformat_minor": 4
}
