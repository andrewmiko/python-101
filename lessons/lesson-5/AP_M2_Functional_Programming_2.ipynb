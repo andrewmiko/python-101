{
 "cells": [
  {
   "cell_type": "markdown",
   "metadata": {
    "tags": []
   },
   "source": [
    "# Module 2: Functional Programming II\n",
    "Course: Advanced Programming for CSAI (Spring 2024)"
   ]
  },
  {
   "cell_type": "markdown",
   "metadata": {},
   "source": [
    "In the previous module, you learnt some principles of Functional Programming. In this module we will see some design patterns that make use of those principles: decorators, partial functions, currying, and closures."
   ]
  },
  {
   "cell_type": "markdown",
   "metadata": {},
   "source": [
    "You are advised to work on these notebooks after, or in parallel to, consulting other materials of the module, such as the slide deck and book chapters. The notebooks contain examples and exercises that should help you understand and apply the concepts introduced in the rest of materials. You may also use the official Python docs: https://docs.python.org/3/.\n",
    "\n",
    "Do not hesitate to be creative when trying out the examples: you can play with the code. You can try variants of the examples and exercises, print values of the variables to understand what is going on at every step, and come up with different solutions to the same exercise and think about relative advantages of each one.\n",
    "\n",
    "The notebook also contains formative assignments. These are indicated as FA-n, where n is a number id. As explained on the course guide, you have to submit these. Please submit your best effort (*i.e.*, FA-n questions with no answer will be considered incomplete), and **if your solution does not work or you think it is inadequate, add a comment explaining why you could not proceed further**.\n",
    "\n",
    "To submit the formative assignments, we ask you to upload the filled-in notebook. The notebook you upload should contain *at least* the formative assigments. It's not a problem if you upload the notebook with additional code, like the variants and tests mentioned above. However, to grade your assignments, we will only look at the answers to the requested exercises (those indicated with FA-n), so **make sure you store your answers in the corresponding variables and/or to name your functions as indicated**.\n",
    "\n",
    "Optional exercises are, as the name indicates, not mandatory for the formative assignments. These are exercises that suggest you to create an alternative approach, or which propose a longer problem that allows for the integration of earlier concepts in one solution; in general, they present scenarios where you can be more creative. To make the most of the course, it is best to try them out and share your solutions on the Discussion Board, so that your peers can comment on them. You are also encouraged to comment on the exercises of your fellow students. This will help you sharpen your evaluation skills, which is a great asset in programming, as in turn this will help you devise more robust, efficient and maintainable solutions. \n",
    "\n",
    "\n",
    "### /!\\ Before submitting your notebook\n",
    "\n",
    "Please check it can be ran without errors! You can check this by pressing kernel --> restart and run all before submitting. If it does not run without errors, it is your **responsibility** to fix the problem either by resolving the bug in your code or by commenting it out along with a comment.\n",
    "\n",
    "---"
   ]
  },
  {
   "cell_type": "markdown",
   "metadata": {
    "tags": []
   },
   "source": [
    "## Decorators"
   ]
  },
  {
   "cell_type": "markdown",
   "metadata": {},
   "source": [
    "Decorators are functions that add some functionality (a \"decoration\") to other functions.\n",
    "\n",
    "Here you can see the anatomy of a decorator:"
   ]
  },
  {
   "cell_type": "code",
   "execution_count": null,
   "metadata": {},
   "outputs": [],
   "source": [
    "#Here we create the decorator 'make_polite', \n",
    "#which will decorate any function given to it as an argument ('func')\n",
    "#Pay attention to its structure:\n",
    "def make_polite(func): \n",
    "    \n",
    "    def inner(): #We create another function within the decorator!    \n",
    "        \n",
    "        print(\"Hello, world! \",)   #This is a decoration: the added functionality \n",
    "        \n",
    "        func()  #Call to the function that has been passed as an argument \n",
    "        \n",
    "    return inner  #We return the inner function that we have created.                                                                                  \n",
    "\n",
    "#Let's define a few functions\n",
    "def one_function():                                                                                                 \n",
    "    print(\"I am function one!.\\n\")      \n",
    "    \n",
    "def another_function():                                                                                                 \n",
    "    print(\"I am function two!\\n\")                                                                                          \n",
    "\n",
    "\n",
    "#Regular call\n",
    "print(\"#We can call our functions as we would \\\n",
    "      normally do (without decoration):\\n\")\n",
    "one_function()\n",
    "another_function()\n",
    "\n",
    "\n",
    "#If we want to run a function with a decoration, we need to pass the \n",
    "#function to the decorator, as an argument: \n",
    "make_polite(one_function)\n",
    "#However, this ^ is not enough to *run* the decorated function 'one_function'\n",
    "#(note that this doesn't print our messages!)\n"
   ]
  },
  {
   "cell_type": "markdown",
   "metadata": {},
   "source": [
    "#### FA-1:\n",
    "Why does the call to *make_polite(one_function)* not run the decorated function?"
   ]
  },
  {
   "cell_type": "code",
   "execution_count": null,
   "metadata": {},
   "outputs": [],
   "source": [
    "## FA-1:\n",
    "\n",
    "fa1_answer = \"\"\"\n",
    "Your answer goes here\n",
    "\"\"\"\n",
    "\n",
    "##############################"
   ]
  },
  {
   "cell_type": "markdown",
   "metadata": {},
   "source": [
    "Here is the correct way to *call* the decorated function:"
   ]
  },
  {
   "cell_type": "code",
   "execution_count": null,
   "metadata": {},
   "outputs": [],
   "source": [
    "#Decorated call (correct attempt)\n",
    "decorated_one=make_polite(one_function)\n",
    "decorated_one()"
   ]
  },
  {
   "cell_type": "markdown",
   "metadata": {},
   "source": [
    "#### FA-2: \n",
    "Create a new decorated function named *decorated_another_function* that decorates *another function* with *make_polite*.\n"
   ]
  },
  {
   "cell_type": "code",
   "execution_count": null,
   "metadata": {},
   "outputs": [],
   "source": [
    "## Your solution goes here: ##\n",
    "## FA-2:\n",
    "\n",
    "##############################"
   ]
  },
  {
   "cell_type": "markdown",
   "metadata": {},
   "source": [
    "#### FA-3:\n",
    "Reflect about this example (and decorators more generally):  what functional programming practices can you identify? "
   ]
  },
  {
   "cell_type": "code",
   "execution_count": null,
   "metadata": {},
   "outputs": [],
   "source": [
    "##############################\n",
    "## FA-3:\n",
    "\n",
    "fa3_answer = \"\"\"\n",
    "Your answer goes here\n",
    "\"\"\"\n",
    "##############################"
   ]
  },
  {
   "cell_type": "markdown",
   "metadata": {},
   "source": [
    "We can also decorate functions using the syntax shown below. \n",
    "\n",
    "This type of syntax is called *pie-decorator*. There is a lot of story behind the decision to incorporate this syntax; if you are curious, check out [this discussion thread]( https://mail.python.org/pipermail/python-dev/2004-August/046672.html)."
   ]
  },
  {
   "cell_type": "code",
   "execution_count": null,
   "metadata": {},
   "outputs": [],
   "source": [
    "@make_polite                                                                                                      \n",
    "def yet_another_function():                                                                                                 \n",
    "    print(\"I am some other ordinary function.\")                                                                                          \n",
    "                                                                                                            \n",
    "yet_another_function()  "
   ]
  },
  {
   "cell_type": "markdown",
   "metadata": {},
   "source": [
    "#### FA-4: \n",
    "Think about the advantages and disadvantages of using this syntax. \n",
    "What happens to the original (undecorated) function?\n"
   ]
  },
  {
   "cell_type": "code",
   "execution_count": null,
   "metadata": {},
   "outputs": [],
   "source": [
    "## Your solution goes here: ##\n",
    "## FA-4:\n",
    "\n",
    "fa4_answer = \"\"\"\n",
    "Your answer goes here\n",
    "\"\"\"\n",
    "\n",
    "##############################"
   ]
  },
  {
   "cell_type": "markdown",
   "metadata": {},
   "source": [
    "#### FA-5:\n",
    "\n",
    "Write three decorators named *make_underline*, *make_bold*, and *make_italic* that format text, as expected in the code below:"
   ]
  },
  {
   "cell_type": "code",
   "execution_count": null,
   "metadata": {},
   "outputs": [],
   "source": [
    "## Your solution goes here: ##\n",
    "## FA-5:\n",
    "\n",
    "\n",
    "##############################\n",
    "\n",
    "@make_underline\n",
    "def hello():\n",
    "    return \"Hello, world!\"\n",
    "print(hello()) ## returns \"<u>Hello, world!</u>\"\n",
    "\n",
    "@make_bold\n",
    "def hello():\n",
    "    return \"Hello, world!\"\n",
    "print(hello()) ## returns \"<b>Hello, world!</b>\"\n",
    "\n",
    "@make_italic\n",
    "def hello():\n",
    "    return \"Hello, world!\"\n",
    "print(hello()) ## returns \"<i>Hello, world!</i>\""
   ]
  },
  {
   "cell_type": "markdown",
   "metadata": {},
   "source": [
    "We can apply multiple decorators to a function:"
   ]
  },
  {
   "cell_type": "code",
   "execution_count": null,
   "metadata": {},
   "outputs": [],
   "source": [
    "@make_bold\n",
    "@make_underline\n",
    "def hello():\n",
    "    return \"Hello, world!\""
   ]
  },
  {
   "cell_type": "markdown",
   "metadata": {},
   "source": [
    "#### FA-6:\n",
    "\n",
    "Which functional programming principle(s) are we applying when combining decorators this way?"
   ]
  },
  {
   "cell_type": "code",
   "execution_count": null,
   "metadata": {},
   "outputs": [],
   "source": [
    "## Your solution goes here: ##\n",
    "## FA-6:\n",
    "\n",
    "fa6_answer = \"\"\"\n",
    "Your answer goes here\n",
    "\"\"\"\n",
    "\n",
    "##############################"
   ]
  },
  {
   "cell_type": "markdown",
   "metadata": {},
   "source": [
    "#### FA-7:\n",
    "\n",
    "Decorate the function 'goodbye' called *decorated_goodbye* such that it prints text that is both bold and underlined: as in the example above, but without using pie-decorators.  \n"
   ]
  },
  {
   "cell_type": "code",
   "execution_count": null,
   "metadata": {},
   "outputs": [],
   "source": [
    "def goodbye():\n",
    "    return \"Goodbye, world!\"\n",
    "\n",
    "## Your solution goes here: ##\n",
    "## FA-7:\n",
    "\n",
    "##############################\n",
    "\n",
    "print(decorated_goodbye()) # => <b><u>Goodbye, world!</u></b>\n",
    "\n"
   ]
  },
  {
   "cell_type": "markdown",
   "metadata": {},
   "source": [
    "#### FA-8:\n",
    "\n",
    "Create two decorators, *at_working_hours* and *at_leisure_time*, that only execute the decorated function during working hours (e.g. 9 to 17) or during leisure time (before 9 or after 17), respectively. The decorators should print an informative message when the decorated function is not executed. Keep the function names *fun_activity* and *task* the same.\n",
    "\n",
    "You can use `datetime.now().hour` to obtain the current time."
   ]
  },
  {
   "cell_type": "code",
   "execution_count": null,
   "metadata": {},
   "outputs": [],
   "source": [
    "from datetime import datetime\n",
    "\n",
    "#The get the current time, use: datetime.now()\n",
    "#To get only the current hour: datetime.now().hour()\n",
    "\n",
    "## Your solution goes here: ##\n",
    "## FA-8:\n",
    "\n",
    "\n",
    "##############################\n",
    "\n",
    "\n",
    "@at_leisure_time\n",
    "def fun_activity():\n",
    "    print(\"Doing some fun activity.\")\n",
    "\n",
    "@at_working_hours\n",
    "def task():\n",
    "    print(\"Doing a job-related task. \")\n",
    "\n",
    "\n",
    "#the return of these functions will depend on the time you run this code\n",
    "#but what we know for sure is that only one of them will execute the decorated function!\n",
    "\n",
    "#E.g.:\n",
    "print(\"Now it's\", datetime.now().hour) # => Now it's 9\n",
    "fun_activity()  # => Not now: Time to work!\n",
    "task() # => Doing a job-related task.\n",
    "\n",
    "# or\n",
    "print(\"Now it's\", datetime.now().hour) # => Now it's 19\n",
    "fun_activity()  # => Doing some fun activity.\n",
    "task() # => No work! work life-balance!\n"
   ]
  },
  {
   "cell_type": "markdown",
   "metadata": {},
   "source": [
    "###  Passing arguments to a decorated function\n",
    "\n",
    "Sometimes we may want pass arguments to decorated function. The code below implements a decorator than can be applied to functions receiving any number of arguments.\n",
    "\n",
    "Try to understand what this code does. All the elements identified above in the description of a decorator's anatomy can be found here as well. Try to match them, and see what has been adjusted to decorate functions with arguments. \n",
    "\n",
    "Note that the function *blub* is not very meaningful: it is just a mock simulation of a function that may occasionally cause exceptions (which has been implemented simply as a random draw)."
   ]
  },
  {
   "cell_type": "code",
   "execution_count": null,
   "metadata": {},
   "outputs": [],
   "source": [
    "from random import randint\n",
    "\n",
    "#Let's define another decorator, \n",
    "#which is able to decorate a function (fun) that receives arguments:\n",
    "def with_retry(func):\n",
    "    def retried(*args, **kwargs):\n",
    "        for _ in range(5):\n",
    "            try:\n",
    "                func(*args, **kwargs)\n",
    "            except Exception as e:\n",
    "                print(\"Caught exception! {}\".format(e))\n",
    "                print(\"The exception was raised while calling {} \\\n",
    "                      with args: {}, kwargs: {}. Retrying\".format(func, args, kwargs))\n",
    "    return retried\n",
    "\n",
    "@with_retry\n",
    "def blub(m):\n",
    "    rnd = randint(0,m)\n",
    "    print(rnd)\n",
    "    if rnd < m-2:\n",
    "        raise Exception(\"\\nSome exception occurred ...\")\n",
    "        \n",
    "#You can also decorate blub without using pie-decorator syntax:\n",
    "#blub = with_retry(blub)  \n",
    "\n",
    "blub(7)"
   ]
  },
  {
   "cell_type": "markdown",
   "metadata": {},
   "source": [
    "###  Passing arguments to a decorator\n",
    "\n",
    "In the example above, the decorator *with_retry* has a hardcoded value (the number of trials, which is set to 5). This is not great practice: we would have to write another decorator if we need e.g. 10 trials instead!\n",
    "\n",
    "To fix this, we can write a decorator which recieves the number of trials as an argument. \n",
    "\n",
    "See how to do this in the example below:"
   ]
  },
  {
   "cell_type": "code",
   "execution_count": null,
   "metadata": {},
   "outputs": [],
   "source": [
    "from random import randint\n",
    "\n",
    "def with_retry(trials): #the decorator now has an argument \n",
    "    def wrap(func): #note this additional wrap!!!\n",
    "        def retried(*args, **kwargs):\n",
    "            for _ in range(trials):\n",
    "                try:\n",
    "                    func(*args, **kwargs)\n",
    "                except Exception as e:\n",
    "                    print(\"Caught exception! {}\".format(e))\n",
    "                    print(\"The exception was raised while calling {} \\\n",
    "                      with args: {}, kwargs: {}. Retrying\".format(func, args, kwargs))\n",
    "        return retried\n",
    "    return wrap\n",
    "\n",
    "@with_retry(10)\n",
    "def blub(m):\n",
    "    rnd = randint(0,m)\n",
    "    print(rnd)\n",
    "    if rnd < m-2:\n",
    "        raise Exception(\"Some exception occurred ...\")\n",
    "        \n",
    "#alternative syntax\n",
    "#blub = with_retry(10)(blub)  \n",
    "\n",
    "blub(7)"
   ]
  },
  {
   "cell_type": "markdown",
   "metadata": {},
   "source": [
    "#### FA-9\n",
    "\n",
    "Write a decorator named *myDecorator* that takes two functions as arguments.\n",
    "The first function should be called before calling the decorated function, while the second function should be called after the decorated function. \n",
    "\n",
    "Write also the code to create a decorated function, such that it produces the output specified below.\n"
   ]
  },
  {
   "cell_type": "code",
   "execution_count": null,
   "metadata": {},
   "outputs": [],
   "source": [
    "## Your solution goes here: ##\n",
    "## FA-9:\n",
    "\n",
    "\n",
    "    \n",
    "\n",
    "##############################\n",
    "\n",
    "\n",
    "#Example:\n",
    "@myDecorator(lambda: print(\"before\"), lambda: print(\"after\"))\n",
    "def decorated_function(message):\n",
    "    print(\"main function: \" + message)\n",
    "\n",
    "#Alternative syntax:\n",
    "#decorated_function = myDecorator(lambda: print(\"before\"), lambda: print(\"after\"))(decorated_function)\n",
    "\n",
    "###########################\n",
    "\n",
    "\n",
    "\n",
    "decorated_function(\"hey\") # => prints:  before\n",
    "                          #             main function: hey\n",
    "                          #             after\n"
   ]
  },
  {
   "cell_type": "markdown",
   "metadata": {},
   "source": [
    "---"
   ]
  },
  {
   "cell_type": "markdown",
   "metadata": {},
   "source": [
    "## Currying\n",
    "\n",
    "Recall that currying is the process of turning multiargument functions into a composition of single-argument functions.\n",
    "\n",
    "Look at the following example of a non-curried function, and a curried one. Play around with it. Can you follow what the curried function is doing at every step?"
   ]
  },
  {
   "cell_type": "code",
   "execution_count": null,
   "metadata": {
    "tags": []
   },
   "outputs": [],
   "source": [
    "#Non-curried function:\n",
    "f = lambda x,y,z: (x + y) * z\n",
    "\n",
    "#Curried function \n",
    "def fcurry(x, *args):\n",
    "    def f1(y, *args):\n",
    "        def f2(z):\n",
    "            return (x+y)*z\n",
    "        if args:\n",
    "            return f2(*args)\n",
    "        return f2\n",
    "    if args:\n",
    "        return f1(*args)\n",
    "    return f1\n",
    "\n",
    "\n",
    "\n",
    "print(f(1,2,3))\n",
    "print(fcurry(1,2,3))"
   ]
  },
  {
   "cell_type": "markdown",
   "metadata": {},
   "source": [
    "The function above is correct, but it is very convoluted and difficult to read, which makes it impractical and prone to errors. "
   ]
  },
  {
   "cell_type": "markdown",
   "metadata": {},
   "source": [
    "But currying a function is like adding some flavor to it ;), so a natural way to implement currying is to use decorators to add curry to our functions. The `PyMonad` library allows us to do so."
   ]
  },
  {
   "cell_type": "code",
   "execution_count": null,
   "metadata": {
    "tags": []
   },
   "outputs": [],
   "source": [
    "!pip install PyMonad\n",
    "#(uncomment the line above the first time you run this code)\n",
    "from pymonad.tools import curry\n",
    "\n",
    "@curry(3) #3 is the number of arguments we want to curry\n",
    "def f(x,y,z):\n",
    "    return (x+y)*z\n",
    "\n",
    "#We can call the function as we would normally do to obtain the final result:\n",
    "print(f(10,20,30))\n",
    "\n"
   ]
  },
  {
   "cell_type": "code",
   "execution_count": null,
   "metadata": {
    "tags": []
   },
   "outputs": [],
   "source": [
    "#We can also access the intermediate functions. \n",
    "#Since we curried 3 arguments, \n",
    "#we get two intermediate functions before obtaining the final result.\n",
    "\n",
    "#If we call our curried function f with one argument, \n",
    "#it will return the first intermediate function,\n",
    "#specialized to that argument. \n",
    "x=10\n",
    "f1=f(x)\n",
    "print(f1)\n",
    "\n",
    "#Can you think what does f1 do? What should the following line return?\n",
    "f1(4,3)\n"
   ]
  },
  {
   "cell_type": "code",
   "execution_count": null,
   "metadata": {},
   "outputs": [],
   "source": [
    "#Now we can call the intermediate specialized function f1 with another argument.\n",
    "#In this way, we can access the second intermediate function, \n",
    "#which will be specialized in x and y\n",
    "y=20\n",
    "f2=f1(y)\n",
    "print(f2)\n",
    "\n",
    "#f2 is now specialized running the operation with x=1 and y=2.\n",
    "#We can call it with a third argument and get the final result:\n",
    "z=30\n",
    "print(f2(z))\n",
    "\n",
    "#Check that this is the same as calling f with all three arguments\n",
    "print(f(x,y,z)==f2(z))\n",
    "\n",
    "\n",
    "#We can also access the second intermediate function directly providing 2 arguments to f:\n",
    "f2=f(x)(y)\n",
    "print(f2)\n",
    "print(f2(z))"
   ]
  },
  {
   "cell_type": "markdown",
   "metadata": {},
   "source": [
    "What happens when we curry fewer arguments? \n",
    "\n",
    "#### FA-10: \n",
    "Look at the example below. Can you explain why we get an error? How should we call f1?"
   ]
  },
  {
   "cell_type": "code",
   "execution_count": null,
   "metadata": {
    "tags": []
   },
   "outputs": [],
   "source": [
    "@curry(2)\n",
    "def f(x,y,z):\n",
    "    return (x+y)*z\n",
    "\n",
    "print(\"#f(1,2,3): \")\n",
    "print(f(1,2,3))\n",
    "\n",
    "print(\"#First intermediate function:\")\n",
    "f1=f(1)\n",
    "print(f1)\n",
    "\n",
    "print(\"#Second intermediate function:\")\n",
    "#f2=f1(2) #Error!\n",
    "\n",
    "\n",
    "## Your solution goes here: ##\n",
    "## FA-10:\n",
    "\n",
    "fa10_answer = \"\"\"\n",
    "Your answer goes here\n",
    "\"\"\"\n",
    "\n",
    "##############################\n"
   ]
  },
  {
   "cell_type": "markdown",
   "metadata": {},
   "source": [
    "Let's look at a more practical example of currying. The following function predicts blood pressure from a number of arguments:  Body Mass Index (BMI), age, sex (a value of 1 means male), and history of previous treatment (a value of 1 means previously treated)."
   ]
  },
  {
   "cell_type": "code",
   "execution_count": null,
   "metadata": {},
   "outputs": [],
   "source": [
    "@curry(4)\n",
    "def systolic_bp(bmi, age, sex_male, treatment):\n",
    "    return 68.15+0.58*bmi+0.65*age+0.94*sex_male+6.44*treatment\n",
    "\n",
    "#Example: \n",
    "systolic_bp(25, 50, 1, 0)"
   ]
  },
  {
   "cell_type": "markdown",
   "metadata": {},
   "source": [
    "Since we have curried the function, we can look at the intermediate steps, and create specialized functions. Let's say we want to have a function tailored to a patient (i.e. with its BMI, age and sex) which we can use to predict blood pressure before and after a treatment:"
   ]
  },
  {
   "cell_type": "code",
   "execution_count": null,
   "metadata": {},
   "outputs": [],
   "source": [
    "bp_patient = systolic_bp(25, 50, 0)\n",
    "treated=0\n",
    "print(\"Before treatment: \", bp_patient(treated))\n",
    "treated=1\n",
    "print(\"After treatment: \", bp_patient(treated))"
   ]
  },
  {
   "cell_type": "markdown",
   "metadata": {},
   "source": [
    "#### FA-11\n",
    "\n",
    "A research project is investigating the effect of the BMI and age on the blood pressure, for women who have been previously treated. It would be useful to have a specialized function for that group, such that its only arguments are the BMI and age of the patient. Can you write this specialized function named *bp_treated_women* based on the curried function above? What do you need to change?"
   ]
  },
  {
   "cell_type": "code",
   "execution_count": null,
   "metadata": {},
   "outputs": [],
   "source": [
    "## Your solution goes here: ##\n",
    "## FA-11:\n",
    "\n",
    "\n",
    "##"
   ]
  },
  {
   "cell_type": "markdown",
   "metadata": {},
   "source": [
    "---"
   ]
  },
  {
   "cell_type": "markdown",
   "metadata": {},
   "source": [
    "## Partial\n",
    "\n",
    "The `functools` module in Python also gives us the option to work with Partial functions. \n",
    "\n",
    "Partial functions are specialized functions, bound to certain values. This makes the Partial design pattern very similar to Currying, to the extent that these two are often confused, so: be mindful of this when you search information online! \n",
    "\n",
    "The main difference is that the goal of Currying is to create functions that accept one single argument, while there is no such requirement in Partial Functions. This also results in differences in how they are used. \n",
    "\n",
    "See an example for the specialized *add* function below:"
   ]
  },
  {
   "cell_type": "code",
   "execution_count": null,
   "metadata": {},
   "outputs": [],
   "source": [
    "from functools import partial\n",
    "from operator import add\n",
    "\n",
    "#The following code creates a function to increment in 1.\n",
    "#It uses composition of single-argument functions (add1,add).\n",
    "#add1 is a specialized case of add\n",
    "def add1(x):\n",
    "    return add(1, x)\n",
    "print(add1(2)) # => 3\n",
    "\n",
    "#Let's implement add1 using Partial\n",
    "add1 = partial(add, 1) #we provide the first argument to obtain a specialized function\n",
    "print(add1)    #add1 is a partial function that always sums 1\n",
    "print(add1(2)) #returns a value (3)"
   ]
  },
  {
   "cell_type": "markdown",
   "metadata": {},
   "source": [
    "Note the difference when doing the same with currying:"
   ]
  },
  {
   "cell_type": "code",
   "execution_count": null,
   "metadata": {},
   "outputs": [],
   "source": [
    "curried_add=curry(2,add) # we need to specify that we curry 2 arguments\n",
    "                         # we still don't provide values\n",
    "print(curried_add)\n",
    "add1=curried_add(1)    #we need this extra line to get a specialized function\n",
    "print(add1(2)) # returns a value (3)"
   ]
  },
  {
   "cell_type": "markdown",
   "metadata": {},
   "source": [
    "Another example:"
   ]
  },
  {
   "cell_type": "code",
   "execution_count": null,
   "metadata": {},
   "outputs": [],
   "source": [
    "from functools import partial\n",
    "\n",
    "def operation(x, y, z, message):\n",
    "        return message + ' ' + str(x * (y + z))\n",
    "\n",
    "# to create a function that multiplies by 2\n",
    "doublesum = partial(operation, 2) #operation specialized in x=2\n",
    "doublesum(3,1, \"Result: \") #=> Result:  8"
   ]
  },
  {
   "cell_type": "markdown",
   "metadata": {},
   "source": [
    "#### FA-12:\n",
    "\n",
    "Turn this example into a specialized function in which x=3 and y=5. Try also specializing on x=3 and y=5 and z=7.  Name the functions *specialized1* and *specialized2*, respectively."
   ]
  },
  {
   "cell_type": "code",
   "execution_count": null,
   "metadata": {},
   "outputs": [],
   "source": [
    "## Your solution goes here: ##\n",
    "## FA-12:\n",
    "x = 3\n",
    "y = 5\n",
    "z = 7\n",
    "\n",
    "specialized1 = None\n",
    "specialized2 = None\n",
    "\n",
    "##############################\n",
    "\n",
    "\n",
    "print(specialized1(7, \"Specialized in x=%i and y=%i. Result:\"%(x,y))) #=> Specialized in x=3 and y=5: Result: 36\n",
    "\n",
    "print(specialized2(\"With x=%i and y=%i and z=%i:\"%(x,y,z))) #=> With x=3 and y=5 and z=7: 36\n",
    "\n"
   ]
  },
  {
   "cell_type": "markdown",
   "metadata": {},
   "source": [
    "Would you be able to specialize the function only on z? Name it *specialized3*."
   ]
  },
  {
   "cell_type": "code",
   "execution_count": null,
   "metadata": {},
   "outputs": [],
   "source": [
    "## Your solution goes here: ##\n",
    "## FA-12:\n",
    "\n",
    "def operation_z(x, y, z, message):\n",
    "        return message + ' ' + str(x * (y + z))\n",
    "\n",
    "specialized3 = None\n",
    "\n",
    "##############################\n",
    "\n",
    "print(specialized3(x=x, y=y ,message=\"Specialized in z=%i. Result:\"%(z))) # => Specialized in z=7. Result: 36"
   ]
  },
  {
   "cell_type": "markdown",
   "metadata": {},
   "source": [
    "#### FA-13:\n",
    "\n",
    "Create the specialized function *specialized2* with currying instead. What's the main difference?"
   ]
  },
  {
   "cell_type": "code",
   "execution_count": null,
   "metadata": {},
   "outputs": [],
   "source": [
    "## Your solution goes here: ##\n",
    "## FA-13:\n",
    "\n",
    "specialized2_currying = None\n",
    "\n",
    "fa13_main_difference = \"\"\"\n",
    "Your answer goes here\n",
    "\"\"\"\n",
    "\n",
    "##############################\n",
    "print(specialized2_currying(z,\"With x=%i and y=%i and z=%i:\"%(x,y,z))) #=> With x=3 and y=5 and z=7: 36"
   ]
  },
  {
   "cell_type": "markdown",
   "metadata": {},
   "source": [
    "---"
   ]
  },
  {
   "cell_type": "markdown",
   "metadata": {
    "tags": []
   },
   "source": [
    "# Closures\n",
    "\n",
    "Finally, another way to have specialized functions is the use of Closures.\n",
    "\n",
    "A closure is a function that has bound variables, i.e. it stores some variables and their values in a referencing environment. A function with a closure can reference a variable that was available in the scope where the function was originally defined, but which would normally not be available in the scope where it is executed (if all of this sounds very foreign, please revisit the contents of Module 1!).\n",
    "\n",
    "Check the example below. For simplicity, the  *inner* function returned by *pop_up* only prints a text message through the standard output, but this example would be equivalent if inner incorporated a more complex way to visualize the message (e.g. launching a pop-up window)."
   ]
  },
  {
   "cell_type": "code",
   "execution_count": null,
   "metadata": {},
   "outputs": [],
   "source": [
    "def pop_up(message):    \n",
    "    def inner():\n",
    "        #when we define this function, message is in the scope of the pop_up function\n",
    "        print(message)      \n",
    "    #When returning the inner function, the message variable (and its value!) will be \n",
    "    #provided together with inner, as a closure (!)\n",
    "    return inner \n",
    "\n",
    "\n",
    "#We can create specialized functions using the closure\n",
    "greeter=pop_up('Hello!')\n",
    "\n",
    "#We can now use the function without providing any argument:\n",
    "greeter()\n",
    "\n",
    "#The code above works because the message was stored in an attribute of the function called __closure__:\n",
    "print('Content of the closure:', greeter.__closure__[0].cell_contents)\n",
    "\n",
    "#We can create other specialized functions\n",
    "checkpoint=pop_up('Passing by')\n",
    "error=pop_up('Error!')\n",
    "\n",
    "#And we can use them as many times as we want elsewhere in our code\n",
    "greeter()\n",
    "checkpoint()\n",
    "error()\n",
    "checkpoint()\n",
    "\n",
    "\n",
    "#Compare this to a version without closures:\n",
    "def no_closure_pop_up(message):\n",
    "    print(message)\n",
    "    \n",
    "no_closure_pop_up('Error!')\n",
    "\n",
    "no_closure_pop_up('Hello!')\n",
    "\n",
    "no_closure_pop_up('Error!') #we need to provide the argument each time!"
   ]
  },
  {
   "cell_type": "markdown",
   "metadata": {},
   "source": [
    "#### FA-14: \n",
    "\n",
    "Examine the example above. What is the advantage of using closures? Think about code maintenance. For example, imagine you have a big project, and in multiple places your code launches a greeting pop-up. In the future, you may want to change this greeting. How do closures help for that? What would be alternative implementations, and what would be their relative advantages and disadvantages?"
   ]
  },
  {
   "cell_type": "code",
   "execution_count": null,
   "metadata": {},
   "outputs": [],
   "source": [
    "## Your solution goes here: ##\n",
    "## FA-14:\n",
    "\n",
    "fa14_answer = \"\"\"\n",
    "Your answer goes here\n",
    "\"\"\"\n",
    "\n",
    "##############################"
   ]
  },
  {
   "cell_type": "markdown",
   "metadata": {},
   "source": [
    "#### FA-15:\n",
    "\n",
    "The function defined below applies a tax rate to an amount(price). Implement a variant that uses closures. Name it *taxer_closure*. Which variable(s) will you add to the closure?"
   ]
  },
  {
   "cell_type": "code",
   "execution_count": null,
   "metadata": {},
   "outputs": [],
   "source": [
    "def taxer(amount, rate):\n",
    "    return amount + (amount * (float(rate)) / 100 )\n",
    "\n",
    "price1=500\n",
    "# Apply taxes:\n",
    "price1=taxer(price1, 19)\n",
    "\n",
    "price2=79\n",
    "# Apply same tax:\n",
    "price2=taxer(price2, 19)\n",
    "\n",
    "price3=30\n",
    "# This one requires another tax\n",
    "price3=taxer(price3, 7)\n"
   ]
  },
  {
   "cell_type": "code",
   "execution_count": null,
   "metadata": {},
   "outputs": [],
   "source": [
    "## Your solution goes here: ##\n",
    "## FA-15:\n",
    "\n",
    "\n",
    "##############################"
   ]
  },
  {
   "cell_type": "markdown",
   "metadata": {},
   "source": [
    "## Final words:\n",
    "The four design patterns that we have seen in this Module are very related: they provide some form of function decorations or specializations, and implement that with the use higher-order functions or function composition. Beware of the differences between them and the nuances in the implementation!"
   ]
  },
  {
   "cell_type": "markdown",
   "metadata": {},
   "source": [
    "## References:\n",
    "* Notebook adapted and extended from Martin Atzmueller, Materials for Advanced Programming for CSAI (2019)."
   ]
  }
 ],
 "metadata": {
  "kernelspec": {
   "display_name": "Python 3 (ipykernel)",
   "language": "python",
   "name": "python3"
  },
  "language_info": {
   "codemirror_mode": {
    "name": "ipython",
    "version": 3
   },
   "file_extension": ".py",
   "mimetype": "text/x-python",
   "name": "python",
   "nbconvert_exporter": "python",
   "pygments_lexer": "ipython3",
   "version": "3.11.7"
  }
 },
 "nbformat": 4,
 "nbformat_minor": 4
}
