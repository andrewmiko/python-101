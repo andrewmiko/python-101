{
 "cells": [
  {
   "cell_type": "markdown",
   "metadata": {},
   "source": [
    "# Module 3: Functional Programming III\n",
    "Course: Advanced Programming for CSAI (Spring 2024)"
   ]
  },
  {
   "cell_type": "markdown",
   "metadata": {},
   "source": [
    "Topics covered in this module:\n",
    "- Iterables, Iterators and Generators. \n",
    "- Lazy Computation. \n",
    "- Real-world examples of Functional Programming.\n",
    "\n",
    "You are advised to work on this notebook after, or in parallel to, consulting other materials of the module, such as the slide deck and book chapters. The notebook contains examples and exercises that should help you understand and apply the concepts introduced in the rest of materials. You may also use the official Python docs: https://docs.python.org/3/.\n",
    "\n",
    "Do not hesitate to be creative when trying out the examples: you can play with the code. You can try variants of the examples and exercises, print values of the variables to understand what is going on at every step, and come up with different solutions to the same exercise and think about relative advantages of each one.\n",
    "\n",
    "The notebook also contains formative assignments. These are indicated as FA-n, where n is a number id. As explained on the course guide, you have to submit these. Please submit your best effort (*i.e.*, FA-n questions with no answer will be considered incomplete), and **if your solution does not work or you think it is inadequate, add a comment explaining why you could not proceed further**.\n",
    "\n",
    "To submit the formative assignments, we ask you to upload the filled-in notebook. The notebook you upload should contain *at least* the formative assigments. It's not a problem if you upload the notebook with additional code, like the variants and tests mentioned above. However, to grade your assignments, we will only look at the answers to the requested exercises (those indicated with FA-n), so **make sure you store your answers in the corresponding variables and/or to name your functions as indicated**.\n",
    "\n",
    "Optional exercises are, as the name indicates, not mandatory for the formative assignments. These are exercises that suggest you to create an alternative approach, or which propose a longer problem that allows for the integration of earlier concepts in one solution; in general, they present scenarios where you can be more creative. To make the most of the course, it is best to try them out and share your solutions on the Discussion Board, so that your peers can comment on them. You are also encouraged to comment on the exercises of your fellow students. This will help you sharpen your evaluation skills, which is a great asset in programming, as in turn this will help you devise more robust, efficient and maintainable solutions. \n",
    "\n",
    "\n",
    "### /!\\ Before submitting your notebook\n",
    "\n",
    "Please check it can be ran without errors! You can check this by pressing kernel --> restart and run all before submitting. If it does not run without errors, it is your **responsibility** to fix the problem either by resolving the bug in your code or by commenting it out along with a comment.\n",
    "\n",
    "---"
   ]
  },
  {
   "cell_type": "markdown",
   "metadata": {},
   "source": [
    "## Iterables, Iterators and Generators"
   ]
  },
  {
   "cell_type": "markdown",
   "metadata": {},
   "source": [
    "As you know from the Knowledge Clips, iterable objects (such as, for example, lists) are containers of other objects (such as, for example, integers). Iterables always have an __iter__ method, which returns an iterator for the iterable."
   ]
  },
  {
   "cell_type": "code",
   "execution_count": 1,
   "metadata": {},
   "outputs": [
    {
     "name": "stdout",
     "output_type": "stream",
     "text": [
      "blue\n",
      "red\n",
      "yellow\n"
     ]
    }
   ],
   "source": [
    "#Lists are iterable objects:\n",
    "myList = ['blue', 'red', 'yellow']\n",
    "\n",
    "#We can use for..in.. expressions to iterate, or individually access, each contained objects in the list:\n",
    "for color in myList:\n",
    "    print(color)\n",
    "\n",
    "#Behind the curtains, for... in is calling iter(myList). \n",
    "#iter(myList) will call myList.__iter__()\n",
    "\n",
    "#What should these calls return? (uncomment to find the answer)\n",
    "#print(iter(myList))\n",
    "#print(myList.__iter__())\n",
    "    \n"
   ]
  },
  {
   "cell_type": "markdown",
   "metadata": {},
   "source": [
    "Let's see other iterable datatypes:"
   ]
  },
  {
   "cell_type": "code",
   "execution_count": 2,
   "metadata": {},
   "outputs": [
    {
     "name": "stdout",
     "output_type": "stream",
     "text": [
      "blue\n",
      "red\n",
      "yellow\n",
      "\n",
      "\n",
      "key: blue , value: #000099\n",
      "key: red , value: #ff0000\n",
      "key: yellow , value: #ffff00\n",
      "\n",
      "\n",
      "E n   u n   l u g a r   d e   l a   M a n c h a . . . \n",
      "\n",
      "1, 2, 3, 4, 5, \n",
      "\n"
     ]
    }
   ],
   "source": [
    "#Dictionaries are iterable:\n",
    "myDict = {'blue':'#000099', 'red':'#ff0000', 'yellow':'#ffff00'}\n",
    "\n",
    "for color in myDict: #we access only the labels when iterating like this\n",
    "    print(color)\n",
    "print('\\n') #newline\n",
    "    \n",
    "for label, value in myDict.items(): #we need to call the method items() to iterate over keys and values\n",
    "    print(\"key:\", label, \", value:\", value)\n",
    "print('\\n') #newline\n",
    "\n",
    "\n",
    "\n",
    "#Strings are also iterable:\n",
    "myString='En un lugar de la Mancha...'\n",
    "\n",
    "for letter in myString:\n",
    "    print(letter, end=' ') #print space instead of newline at the end \n",
    "print('\\n') #newline\n",
    "\n",
    "\n",
    "#And so are sets:\n",
    "mySet=set((5,4,3,2,1))\n",
    "\n",
    "#Note that items are not accessed necessarily in insertion order!:\n",
    "for item in mySet:\n",
    "    print(item, end=', ') \n",
    "print('\\n') #newline\n"
   ]
  },
  {
   "cell_type": "markdown",
   "metadata": {},
   "source": [
    "Let's check which of these types have an __iter__ method:"
   ]
  },
  {
   "cell_type": "code",
   "execution_count": 3,
   "metadata": {},
   "outputs": [
    {
     "name": "stdout",
     "output_type": "stream",
     "text": [
      "Integer: False\n",
      "List: True\n",
      "Dict: True\n",
      "String: True\n",
      "1-character string: True\n",
      "Tuple: True\n",
      "List Comprehension: True\n",
      "Generator Expression: True\n",
      "Lambda function: False\n",
      "Function with return: False\n",
      "Function with yield: True\n"
     ]
    }
   ],
   "source": [
    "#All iterables have an __iter__ method:\n",
    "#we can check the methods of an object with dir\n",
    "#Can you predict which of these will be True?\n",
    "\n",
    "print(\"Integer:\",\"__iter__\"               in dir(1))\n",
    "print(\"List:\", \"__iter__\"                 in dir(myList))\n",
    "print(\"Dict:\",\"__iter__\"                  in dir(myDict))\n",
    "print(\"String:\",\"__iter__\"                in dir(myString))\n",
    "print(\"1-character string:\",\"__iter__\"    in dir('a'))\n",
    "print(\"Tuple:\",\"__iter__\"                 in dir((3,2,1)))\n",
    "print(\"List Comprehension:\",\"__iter__\"    in dir([x+1 for x in [1,2,3]]))\n",
    "print(\"Generator Expression:\",\"__iter__\"  in dir((x+1 for x in [1,2,3])))\n",
    "\n",
    "\n",
    "#Let's also check some functions:\n",
    "print(\"Lambda function:\",\"__iter__\"  in dir(lambda x:x))\n",
    "\n",
    "def times5(n):\n",
    "    return n*5\n",
    "\n",
    "print(\"Function with return:\",\"__iter__\"  in  dir(times5))\n",
    "\n",
    "\n",
    "def times5_gen():\n",
    "    start = 1\n",
    "    yield start*5\n",
    "    start+=1\n",
    "    \n",
    "\n",
    "print(\"Function with yield:\",\"__iter__\"  in  dir(times5_gen())) \n"
   ]
  },
  {
   "cell_type": "markdown",
   "metadata": {},
   "source": [
    "Recall that iterables are collections of items, while iterators are not collections: they are objects that store a state (normally, an index). When looping over an iterable, the iterator of that iterable will tell us which item of the collection is the next to be read.\n",
    "\n",
    "For example, imagine you have a list with 10 strings. Your list is an iterable, and therefore it has an __iter__ method. We can print the contents of the list without using the __iter__ method; however, if we want to loop over the list (for example with a **for** loop), then Python will implicitly call the __iter__ method to obtain an interator for the list. The iterator will keep track of which item should be read next by the **for** loop.  Therefore, the iterator will have a state, and a __next__ method that will inform the **for** loop of which item in the list should be read in the current iteration.\n",
    "\n",
    "\n",
    "\n",
    "### FA-1:\n",
    "\n",
    "\n",
    "\n",
    "Which of the types above should also have a ``__ next __`` method? Why?\n",
    "\n",
    "You are welcome to check your answer empirically (i.e. adapting the code above), but you are not required to do so. "
   ]
  },
  {
   "cell_type": "code",
   "execution_count": 4,
   "metadata": {},
   "outputs": [],
   "source": [
    "###### FA-1 #####################################\n",
    "\n",
    "fa_1_answer = \"\"\"\n",
    "Your answer goes here\n",
    "\"\"\"\n",
    "\n",
    "#################################################"
   ]
  },
  {
   "cell_type": "markdown",
   "metadata": {},
   "source": [
    "As we know, iter(x) returns an iterator for an iterable x. We can check which additional methods the iterator of x provides (compared to x). We'll do this for myList:"
   ]
  },
  {
   "cell_type": "code",
   "execution_count": 5,
   "metadata": {},
   "outputs": [
    {
     "name": "stdout",
     "output_type": "stream",
     "text": [
      "<class 'list_iterator'>\n",
      "<class 'list'>\n",
      "\n",
      "Methods in the iterator which are not in the iterable:\n",
      "{'__length_hint__', '__next__', '__setstate__'}\n",
      "\n",
      "Methods in the iterable which are not in the iterator:\n",
      "{'append', 'reverse', 'clear', 'remove', 'index', '__add__', '__rmul__', 'pop', '__setitem__', '__reversed__', 'sort', '__mul__', '__getitem__', 'insert', 'copy', 'count', '__class_getitem__', '__len__', '__imul__', '__iadd__', '__contains__', '__delitem__', 'extend'}\n"
     ]
    }
   ],
   "source": [
    "#First we obtain an iterator for myList:\n",
    "myIterator=iter(myList)\n",
    "print(type(myIterator))\n",
    "print(type(myList))\n",
    "\n",
    "# We can retrieve the methods of each of these objects\n",
    "# (dir returns a list: we convert it to a set so that we can perform set operations later)\n",
    "methods_myIterator=set(dir(myIterator))\n",
    "methods_myList=set(dir(myList))\n",
    "print('')\n",
    "\n",
    "# Now we can see which methods are in myIterator but not in myList\n",
    "print(\"Methods in the iterator which are not in the iterable:\")\n",
    "print(methods_myIterator- methods_myList) \n",
    "print('')\n",
    "#Note that the iterator has __next__ !\n",
    "\n",
    "# We can also check which methods are in myList but not myIterator:\n",
    "print(\"Methods in the iterable which are not in the iterator:\")\n",
    "print(methods_myList - methods_myIterator)\n",
    "\n"
   ]
  },
  {
   "cell_type": "markdown",
   "metadata": {},
   "source": [
    "Note that the iterator provides us with the __ next __  method, which was not available in the iterable!\n",
    "\n",
    "Note also that the __ iter __ method is not listed above: this is a method that is common both to iterables and iterators (in the case of an iterator, __ iter __ returns self: this is just a language design feature that makes the implementation simpler behind the curtains).\n",
    "\n",
    "\n",
    "### FA-2: \n",
    "\n",
    "If you look at the methods listed above, you can see that the the iterable has a method __ len __ . This is the method called when we do len(myList) to obtain the number of elements in the list. Note that this method is not available in the iterator: you can further verify that len(myIterator) raises a TypeError.\n",
    "\n",
    "Now look at the example below. The function **firstn** is a generator, as it uses **yield**. As you can see, the generator has an __ iter __ method, and also a __ next __ method. Given what you have seen above, and what you know of generators, try to deduce whether *g* should have a __ len __ method. (You can check your answer empirically using **hasattr**, but it would really help your study to try to deduce this beforehand: this would let you see if you understand what generators are). Provide an explanation of your answer.  "
   ]
  },
  {
   "cell_type": "code",
   "execution_count": 6,
   "metadata": {},
   "outputs": [
    {
     "name": "stdout",
     "output_type": "stream",
     "text": [
      "Generator object: <generator object firstn at 0x7f1e2c0df0b0>\n",
      "iter in generator: True\n",
      "next in generator: True\n"
     ]
    }
   ],
   "source": [
    "#This function is a generator:\n",
    "def firstn(n):\n",
    "    num = 0\n",
    "    while num < n:\n",
    "        yield num\n",
    "        num += 1\n",
    "\n",
    "g=firstn(4)\n",
    "print(\"Generator object:\", g)\n",
    "print(\"iter in generator:\", hasattr(g, '__iter__'))\n",
    "print(\"next in generator:\", hasattr(g, '__next__'))\n",
    "\n",
    "###### FA-2 #####################################\n",
    "\n",
    "fa2_answer = \"\"\"\n",
    "Your answer goes here\n",
    "\"\"\"\n",
    "\n",
    "##################################################"
   ]
  },
  {
   "cell_type": "markdown",
   "metadata": {},
   "source": [
    "### FA-3: \n",
    "\n",
    "Imagine you are using a function from a third-party library that returns a generator. You want to write a program that produces a visualization of the elements of this generator, but you want to know beforehand how many elements you can obtain from the generator, as this will help you decide how to create distribute this elements on the screen. How can you do this? (you do not need to submit any code, just reflect on the question)."
   ]
  },
  {
   "cell_type": "code",
   "execution_count": 7,
   "metadata": {},
   "outputs": [],
   "source": [
    "###### FA-3 #####################################\n",
    "\n",
    "fa_3_answer = \"\"\"\n",
    "Your answer goes here\n",
    "\"\"\"\n",
    "\n",
    "##################################################"
   ]
  },
  {
   "cell_type": "markdown",
   "metadata": {},
   "source": [
    "----\n",
    "## Lazy evaluation\n",
    "\n",
    "\n",
    "When working on the previous section, you should have noticed some differences in the behavior of generators, compared to other iterables such as lists and dictionaries. This has to do with the fact that generators are lazy. \n",
    "\n",
    "If you have not done so yet, this would be a good moment to watch the Knowledge Clip about Lazy Evaluation. \n",
    "\n",
    "To test your understanding of the concept of Lazy Evaluation, look at the following examples, and predict what the outcome should be with eager and with lazy evaluation. In particular, think which of these statements should print the word \"right\", in two theoretical cases: when using a programming language with eager evaluation, and when using a programming language with lazy evaluation. \n",
    "\n",
    "When you run the examples, note that Python uses lazy evaluation for Boolean expressions with **and** and **or**. "
   ]
  },
  {
   "cell_type": "code",
   "execution_count": 8,
   "metadata": {},
   "outputs": [
    {
     "name": "stdout",
     "output_type": "stream",
     "text": [
      "right\n"
     ]
    },
    {
     "data": {
      "text/plain": [
       "True"
      ]
     },
     "execution_count": 8,
     "metadata": {},
     "output_type": "execute_result"
    }
   ],
   "source": [
    "True and (print(\"right\") is None)"
   ]
  },
  {
   "cell_type": "code",
   "execution_count": 9,
   "metadata": {},
   "outputs": [
    {
     "data": {
      "text/plain": [
       "False"
      ]
     },
     "execution_count": 9,
     "metadata": {},
     "output_type": "execute_result"
    }
   ],
   "source": [
    "False and (print(\"right\") is None)\n",
    "\n",
    "#print(print(\"right\"))"
   ]
  },
  {
   "cell_type": "code",
   "execution_count": 10,
   "metadata": {},
   "outputs": [
    {
     "data": {
      "text/plain": [
       "True"
      ]
     },
     "execution_count": 10,
     "metadata": {},
     "output_type": "execute_result"
    }
   ],
   "source": [
    "True or (print(\"right\") is None)"
   ]
  },
  {
   "cell_type": "code",
   "execution_count": 11,
   "metadata": {},
   "outputs": [
    {
     "name": "stdout",
     "output_type": "stream",
     "text": [
      "right\n"
     ]
    },
    {
     "data": {
      "text/plain": [
       "True"
      ]
     },
     "execution_count": 11,
     "metadata": {},
     "output_type": "execute_result"
    }
   ],
   "source": [
    "False or (print(\"right\") is None)"
   ]
  },
  {
   "cell_type": "markdown",
   "metadata": {},
   "source": [
    "As you know, generators are also lazy in Python: they don't create all the results immediately, but delay their evaluation until the moment they are needed. This applies both to generator expressions and generator functions with *yield*. \n"
   ]
  },
  {
   "cell_type": "code",
   "execution_count": 12,
   "metadata": {},
   "outputs": [
    {
     "name": "stdout",
     "output_type": "stream",
     "text": [
      "0\n",
      "1\n",
      "2\n",
      "3\n",
      "4\n",
      "5\n",
      "6\n",
      "7\n",
      "\n",
      "0\n",
      "1\n",
      "2\n"
     ]
    }
   ],
   "source": [
    "#The numbers generator defined below has an infinite loop (while True)!\n",
    "def numbers(): \n",
    "    i=0\n",
    "    while True:     \n",
    "        yield i \n",
    "        i+=1\n",
    "               \n",
    "\n",
    "#However, we can call this function without running into an infinite loop!\n",
    "g=numbers()\n",
    "#This is thanks to lazy evaluation: the numbers of this generator are only computed when needed.\n",
    "\n",
    "#We can get the next number as many times as we want \n",
    "print(next(g))\n",
    "print(next(g))\n",
    "print(next(g))\n",
    "\n",
    "for _ in range(5):\n",
    "    print(next(g))\n",
    "\n",
    "    \n",
    "print('')\n",
    "\n",
    "\n",
    "#But don't do the following! (unless you add a break condition)\n",
    "#for number in g:\n",
    "#    print(number)\n",
    "#Since there is no stopping condition, this loop would run infinitely \n",
    "#(and you'd have to stop it on time and possibly restart the kernel, and perhaps even your computer)\n",
    "\n",
    "#The itertools module provides a generator with the same functionality as numbers:\n",
    "import itertools \n",
    "\n",
    "g=itertools.count()\n",
    "print(next(g))\n",
    "print(next(g))\n",
    "print(next(g))\n"
   ]
  },
  {
   "cell_type": "markdown",
   "metadata": {},
   "source": [
    "Here is an example that uses the numbers generator. Note that it uses a break condition!"
   ]
  },
  {
   "cell_type": "code",
   "execution_count": 13,
   "metadata": {},
   "outputs": [
    {
     "name": "stdout",
     "output_type": "stream",
     "text": [
      "Result:  10\n",
      "Result:  105\n",
      "Result:  435\n"
     ]
    }
   ],
   "source": [
    "def sum_to(n):\n",
    "    sum = 0\n",
    "    for i in numbers():\n",
    "        if i == n: \n",
    "            break\n",
    "        sum += i\n",
    "    return sum\n",
    "\n",
    "print(\"Result: \", sum_to(5))\n",
    "print(\"Result: \", sum_to(15))\n",
    "print(\"Result: \", sum_to(30))\n"
   ]
  },
  {
   "cell_type": "markdown",
   "metadata": {},
   "source": [
    "### FA-4\n",
    "\n",
    "Generators and list comprehensions look very similar, but list comprehensions are eager while generators are lazy.      \n",
    "\n",
    "\n",
    "Have a look at the following example. We have some *data* stored in a list, and a function that always accesses it in insertion order, up to a certain position (included), and returns the last accessed element.\n",
    "\n",
    "What are the relative advantatges of using this function with *l* or *g*? Think what would happen in case of much larger data."
   ]
  },
  {
   "cell_type": "code",
   "execution_count": 14,
   "metadata": {},
   "outputs": [
    {
     "name": "stdout",
     "output_type": "stream",
     "text": [
      "[2, 6674, 220, 32, 96, 2856]\n",
      "<generator object <genexpr> at 0x7f1e2c0df040>\n",
      "Accessing element  0 :  2\n",
      "Accessing element  1 :  6674\n",
      "Accessing element  2 :  220\n",
      "220\n",
      "Accessing element  0 :  2\n",
      "Accessing element  1 :  6674\n",
      "Accessing element  2 :  220\n",
      "220\n",
      "Accessing element  0 :  32\n",
      "Accessing element  1 :  96\n",
      "Accessing element  2 :  2856\n",
      "2856\n",
      "Accessing element  0 :  2\n",
      "Accessing element  1 :  6674\n",
      "Accessing element  2 :  220\n",
      "220\n"
     ]
    }
   ],
   "source": [
    "data = [2,53, 1, 6674, 23, 16435, 95, 220, 32, 27, 3, 96, 261, 2856]\n",
    "\n",
    "l = [x for x in data if x % 2 == 0]\n",
    "\n",
    "g = (x for x in data if x % 2 == 0)\n",
    "\n",
    "print(l)\n",
    "print(g)\n",
    "\n",
    "\n",
    "def access_in_order(it, until, verbose=False):\n",
    "    for i, element in enumerate(it):\n",
    "        if verbose:\n",
    "            print(\"Accessing element \", i, \": \", element)\n",
    "        if i >= until:\n",
    "            return element\n",
    "    \n",
    "    \n",
    "print(access_in_order(l, 2, True))\n",
    "print(access_in_order(g, 2, True))   \n",
    "print(access_in_order(g, 2, True))   #Note that we get a different result now! \n",
    "                                     #since g is a generator, it keeps the state\n",
    "g = (x for x in data if x % 2 == 0)  #We need to create it again if we want to regenerate it\n",
    "print(access_in_order(g, 2, True))\n",
    "\n",
    "###### FA-4 #####################################\n",
    "\n",
    "fa_4_answer = \"\"\"\n",
    "Your answer goes here\n",
    "\"\"\"\n",
    "\n",
    "##################################################"
   ]
  },
  {
   "cell_type": "markdown",
   "metadata": {},
   "source": [
    "### FA-5\n",
    "\n",
    "Now write a function _random_access_ that only accesses an element in one given position in *data*, converts it to a string, and returns it. Would you prefer to use *l* or *g* in this case? Think about the efficiency of each option."
   ]
  },
  {
   "cell_type": "code",
   "execution_count": 15,
   "metadata": {},
   "outputs": [
    {
     "ename": "TypeError",
     "evalue": "random_access() takes 0 positional arguments but 2 were given",
     "output_type": "error",
     "traceback": [
      "\u001b[0;31m---------------------------------------------------------------------------\u001b[0m",
      "\u001b[0;31mTypeError\u001b[0m                                 Traceback (most recent call last)",
      "Input \u001b[0;32mIn [15]\u001b[0m, in \u001b[0;36m<module>\u001b[0;34m\u001b[0m\n\u001b[1;32m      6\u001b[0m \u001b[38;5;66;03m##################################################\u001b[39;00m\n\u001b[1;32m      8\u001b[0m random_position\u001b[38;5;241m=\u001b[39m\u001b[38;5;241m2\u001b[39m\n\u001b[0;32m----> 9\u001b[0m \u001b[38;5;28mprint\u001b[39m(\u001b[43mrandom_access\u001b[49m\u001b[43m(\u001b[49m\u001b[43ml\u001b[49m\u001b[43m,\u001b[49m\u001b[43m \u001b[49m\u001b[43mrandom_position\u001b[49m\u001b[43m)\u001b[49m) \u001b[38;5;66;03m#=>220\u001b[39;00m\n\u001b[1;32m     10\u001b[0m g \u001b[38;5;241m=\u001b[39m (x \u001b[38;5;28;01mfor\u001b[39;00m x \u001b[38;5;129;01min\u001b[39;00m data \u001b[38;5;28;01mif\u001b[39;00m x \u001b[38;5;241m%\u001b[39m \u001b[38;5;241m2\u001b[39m \u001b[38;5;241m==\u001b[39m \u001b[38;5;241m0\u001b[39m) \u001b[38;5;66;03m#re-generate the exhausted generator\u001b[39;00m\n\u001b[1;32m     11\u001b[0m \u001b[38;5;28mprint\u001b[39m(random_access(g, random_position))\n",
      "\u001b[0;31mTypeError\u001b[0m: random_access() takes 0 positional arguments but 2 were given"
     ]
    }
   ],
   "source": [
    "###### FA-5 #####################################\n",
    "\n",
    "def random_access():\n",
    "    pass\n",
    "\n",
    "##################################################\n",
    "\n",
    "random_position=2\n",
    "print(random_access(l, random_position)) #=>220\n",
    "g = (x for x in data if x % 2 == 0) #re-generate the exhausted generator\n",
    "print(random_access(g, random_position)) #=>220"
   ]
  },
  {
   "cell_type": "markdown",
   "metadata": {
    "tags": []
   },
   "source": [
    "----\n",
    "# Real-word example 1: Fibonacci numbers\n",
    "\n",
    "First, familiarize yourself with these functions, which will be useful later.\n"
   ]
  },
  {
   "cell_type": "code",
   "execution_count": 16,
   "metadata": {},
   "outputs": [
    {
     "name": "stdout",
     "output_type": "stream",
     "text": [
      "[20, 21, 22, 23, 24]\n",
      "<itertools.accumulate object at 0x7f1e2c18c300>\n",
      "10\n",
      "12\n",
      "14\n"
     ]
    }
   ],
   "source": [
    "import itertools\n",
    "\n",
    "\n",
    "#Take\n",
    "def take(n, iterable):\n",
    "    \"Return first n items of an iterable as a list\"\n",
    "    return list(itertools.islice(iterable, n))\n",
    "\n",
    "#Example of use: take the first 5 elements of a generator\n",
    "print(take(5, itertools.count(start=20)))\n",
    "\n",
    "\n",
    "#Iterate\n",
    "def iterate(f, x):\n",
    "    \"...\" \n",
    "    return itertools.accumulate(itertools.repeat(x), lambda fx, _: f(fx))\n",
    "\n",
    "g=iterate(lambda x:x+2, 10)\n",
    "  \n",
    "print(g)\n",
    "\n",
    "# Note: don't visualize the content of g with print(list(g))! \n",
    "# Can you anticipate what would happen if you did this?\n",
    "\n",
    "print(next(g))\n",
    "print(next(g))\n",
    "print(next(g))"
   ]
  },
  {
   "cell_type": "markdown",
   "metadata": {},
   "source": [
    "\n",
    "### FA-6\n",
    "\n",
    "What does iterate do?\n",
    "\n",
    "Hint: you can have a look at the itertool functions at the official docs: https://docs.python.org/3/library/itertools.html"
   ]
  },
  {
   "cell_type": "code",
   "execution_count": 17,
   "metadata": {},
   "outputs": [],
   "source": [
    "\n",
    "###### FA-6 #####################################\n",
    "\n",
    "fa_6_answer = \"\"\"\n",
    "Your answer goes here\n",
    "\"\"\"\n",
    "\n",
    "##################################################"
   ]
  },
  {
   "cell_type": "markdown",
   "metadata": {},
   "source": [
    "Now we can look at two implementations of Fibonacci numbers.\n",
    "\n",
    "### FA-7:\n",
    "\n",
    "Read the two implementation below. Before running them, can you predict which one will be faster? Was your intuition correct? Explain what makes one faster than the other."
   ]
  },
  {
   "cell_type": "code",
   "execution_count": 18,
   "metadata": {},
   "outputs": [
    {
     "name": "stdout",
     "output_type": "stream",
     "text": [
      "CPU times: user 538 ms, sys: 0 ns, total: 538 ms\n",
      "Wall time: 1.06 s\n"
     ]
    },
    {
     "data": {
      "text/plain": [
       "[1,\n",
       " 1,\n",
       " 2,\n",
       " 3,\n",
       " 5,\n",
       " 8,\n",
       " 13,\n",
       " 21,\n",
       " 34,\n",
       " 55,\n",
       " 89,\n",
       " 144,\n",
       " 233,\n",
       " 377,\n",
       " 610,\n",
       " 987,\n",
       " 1597,\n",
       " 2584,\n",
       " 4181,\n",
       " 6765,\n",
       " 10946,\n",
       " 17711,\n",
       " 28657,\n",
       " 46368,\n",
       " 75025,\n",
       " 121393,\n",
       " 196418,\n",
       " 317811,\n",
       " 514229,\n",
       " 832040]"
      ]
     },
     "execution_count": 18,
     "metadata": {},
     "output_type": "execute_result"
    }
   ],
   "source": [
    "#Implementation 1\n",
    "\n",
    "def fib(n):\n",
    "    if n == 0:\n",
    "        return 1\n",
    "    \n",
    "    if n == 1:\n",
    "        return 1\n",
    "    \n",
    "    return fib(n-1) + fib(n-2)\n",
    "\n",
    "def fibs(n):\n",
    "    return [fib(i) for i in range(n)]\n",
    "    \n",
    "\n",
    "%time fibs(30)"
   ]
  },
  {
   "cell_type": "code",
   "execution_count": 19,
   "metadata": {},
   "outputs": [
    {
     "name": "stdout",
     "output_type": "stream",
     "text": [
      "CPU times: user 21 µs, sys: 0 ns, total: 21 µs\n",
      "Wall time: 23.6 µs\n"
     ]
    },
    {
     "data": {
      "text/plain": [
       "[1,\n",
       " 1,\n",
       " 2,\n",
       " 3,\n",
       " 5,\n",
       " 8,\n",
       " 13,\n",
       " 21,\n",
       " 34,\n",
       " 55,\n",
       " 89,\n",
       " 144,\n",
       " 233,\n",
       " 377,\n",
       " 610,\n",
       " 987,\n",
       " 1597,\n",
       " 2584,\n",
       " 4181,\n",
       " 6765,\n",
       " 10946,\n",
       " 17711,\n",
       " 28657,\n",
       " 46368,\n",
       " 75025,\n",
       " 121393,\n",
       " 196418,\n",
       " 317811,\n",
       " 514229,\n",
       " 832040]"
      ]
     },
     "execution_count": 19,
     "metadata": {},
     "output_type": "execute_result"
    }
   ],
   "source": [
    "#Implementation 2\n",
    "\n",
    "def next_fib(pair):\n",
    "    x, y = pair\n",
    "    return (y, x + y)\n",
    "\n",
    "def fibs():\n",
    "    return (y for x, y in iterate(next_fib, (0, 1)))\n",
    "\n",
    "%time take(30, fibs())"
   ]
  },
  {
   "cell_type": "code",
   "execution_count": 20,
   "metadata": {},
   "outputs": [],
   "source": [
    "###### FA-7 #####################################\n",
    "\n",
    "fa_7_answer = \"\"\"\n",
    "Your answer goes here\n",
    "\"\"\"\n",
    "\n",
    "##################################################"
   ]
  },
  {
   "cell_type": "markdown",
   "metadata": {},
   "source": [
    "----\n",
    "## Real-world example 2: K-means Clustering\n",
    "\n",
    "Now we will look at a fully-fledged real-world application of functional programming: the implementation of the K-means algorithm. We will see an object-oriented and a functional approach. Read the code, try to understand it and play around with it, if you wish. Most importantly: compare the presented approaches, and reflect on their differences.\n",
    "\n",
    "Basic idea of K-means:\n",
    "* we have some points\n",
    "* we want to group them into k clusters\n",
    "* we want clusters to be \"small\"\n",
    "\n",
    "Iterative approach:\n",
    "* choose k means\n",
    "* assign each point to cluster of \"closest\" mean\n",
    "* compute new means\n",
    "* repeat"
   ]
  },
  {
   "cell_type": "code",
   "execution_count": 21,
   "metadata": {},
   "outputs": [],
   "source": [
    "#!pip install numpy\n",
    "import numpy as np\n",
    "import random\n",
    "from functools import reduce\n",
    "from functools import partial\n",
    "from operator import add\n",
    "\n",
    "import matplotlib.pyplot as plt\n",
    "%matplotlib inline\n",
    "from IPython.display import clear_output"
   ]
  },
  {
   "cell_type": "markdown",
   "metadata": {},
   "source": [
    "First an object-oriented implementation: "
   ]
  },
  {
   "cell_type": "code",
   "execution_count": 22,
   "metadata": {},
   "outputs": [
    {
     "data": {
      "image/png": "[encoded data removed]",
      "text/plain": [
       "<Figure size 432x288 with 1 Axes>"
      ]
     },
     "metadata": {
      "needs_background": "light"
     },
     "output_type": "display_data"
    }
   ],
   "source": [
    "class KMeans:\n",
    "    def __init__(self, k):\n",
    "        self.k = k\n",
    "        self.means = [None for _ in range(k)]\n",
    "        \n",
    "    def predict(self, point):\n",
    "        \"\"\"return index of closest mean\"\"\"\n",
    "        d_min = float('inf')\n",
    "        for j, m in enumerate(self.means):\n",
    "            d = sum((m_i - p_i)**2 for m_i, p_i in zip(m, point))\n",
    "            if d < d_min:\n",
    "                prediction = j\n",
    "                d_min = d            \n",
    "        return prediction\n",
    "\n",
    "\n",
    "    def fit(self, points, num_iters=10):\n",
    "        \"\"\"find the k means\"\"\"\n",
    "        assignments = [None for _ in points]\n",
    "        self.means = random.sample(list(points), self.k)\n",
    "        for _ in range(num_iters):\n",
    "            # assign each point to its closest mean\n",
    "            for i, point in enumerate(points):\n",
    "                assignments[i] = self.predict(point)\n",
    "            # compute new means\n",
    "            for j in range(self.k):\n",
    "                cluster = [p for p, c in zip(points, assignments) if c == j]\n",
    "                self.means[j] = list(map(lambda x: x / len(cluster), reduce(partial(map, add), cluster)))\n",
    "            assignments = [self.predict(point) for point in points]\n",
    "            self.plot_current(points, assignments)\n",
    "                \n",
    "    def plot_current(self, points, assignments):\n",
    "        clear_output(wait=True)\n",
    "        for j, color in zip(range(5), ['r', 'g', 'b', 'm', 'c']):\n",
    "            cluster = [p for p, c in zip(points, assignments) if j == c]\n",
    "            xs, ys = zip(*cluster)\n",
    "            plt.scatter(xs, ys, color=color)\n",
    "        # now plot the means and the clusters\n",
    "        for x, y in self.means:\n",
    "            plt.plot(x, y, marker='*', markersize=10, color='black')\n",
    "        plt.show()        \n",
    "        plt.pause(1)\n",
    "            \n",
    "# 100 random points, 5 clusters\n",
    "k=5\n",
    "points = np.random.random((100,2))\n",
    "model = KMeans(k)\n",
    "model.fit(points)"
   ]
  },
  {
   "cell_type": "markdown",
   "metadata": {},
   "source": [
    "Now the functional alternative:"
   ]
  },
  {
   "cell_type": "code",
   "execution_count": 23,
   "metadata": {},
   "outputs": [
    {
     "data": {
      "image/png": "[encoded data removed]",
      "text/plain": [
       "<Figure size 432x288 with 1 Axes>"
      ]
     },
     "metadata": {
      "needs_background": "light"
     },
     "output_type": "display_data"
    }
   ],
   "source": [
    "import numpy as np\n",
    "import random\n",
    "\n",
    "import matplotlib.pyplot as plt\n",
    "%matplotlib inline\n",
    "\n",
    "\n",
    "def k_means(points, k, num_iters=10):\n",
    "    means = random.sample(list(points), k)\n",
    "    for _ in range(num_iters):\n",
    "        means = new_means(points, means)\n",
    "        assignments = [closest_index(point, means) for point in points]\n",
    "        plot_current(points, assignments, means)\n",
    "    return means\n",
    "\n",
    "def new_means(points, old_means):\n",
    "    k = len(old_means)\n",
    "    assignments = [closest_index(point, old_means) for point in points]\n",
    "    clusters = [[point for point, c in zip(points, assignments) if c == j] for j in range(k)]\n",
    "    return [cluster_mean(cluster) for cluster in clusters]\n",
    "\n",
    "def closest_index(point, means):\n",
    "    distances = [squared_distance(point, mean) for mean in means]\n",
    "    return min(enumerate(distances), key=lambda pair: pair[1])[0]\n",
    "\n",
    "def squared_distance(p, q):\n",
    "    return sum((p_i - q_i)**2 for p_i, q_i in zip(p, q))\n",
    "\n",
    "def cluster_mean(points):\n",
    "    num_points = len(points)\n",
    "    dim = len(points[0]) if points else 0\n",
    "    \n",
    "    sum_points = [sum(point[j] for point in points) for j in range(dim)]\n",
    "    return [s / num_points for s in sum_points]\n",
    "\n",
    "def plot_current(points, assignments, means):\n",
    "    clear_output(wait=True)\n",
    "    for j, color in zip(range(5), ['r', 'g', 'b', 'm', 'c']):\n",
    "        cluster = [p for p, c in zip(points, assignments) if j == c]\n",
    "        xs, ys = zip(*cluster)\n",
    "        plt.scatter(xs, ys, color=color)\n",
    "    # now plot the means and the clusters\n",
    "    for x, y in means:\n",
    "        plt.plot(x, y, marker='*', markersize=10, color='black')\n",
    "    plt.show()        \n",
    "    plt.pause(1)\n",
    "\n",
    "\n",
    "k = 5\n",
    "points = np.random.random((100,2))\n",
    "means = k_means(points, k)"
   ]
  },
  {
   "cell_type": "markdown",
   "metadata": {},
   "source": [
    "We can actually push the functional approach more, as shown below.\n",
    "\n",
    "With the k\\_meanses function, we can more easily iterate until convergence. \n",
    "\n",
    "In particular, the iterate function in k\\_meanses produces the series x, f(x), f(f(x)), ....\n",
    "so this results in the (lazy, infinite) sequence:\n",
    "* initial_means\n",
    "* new_means(points, initial_means)\n",
    "* new_means(points, new_means(points, initial_means))\n",
    "* ..."
   ]
  },
  {
   "cell_type": "code",
   "execution_count": 24,
   "metadata": {},
   "outputs": [],
   "source": [
    "from itertools import islice\n",
    "from itertools import accumulate\n",
    "from itertools import repeat\n",
    "from functools import partial\n",
    "\n",
    "#We have seen these functions; let's repeat them here:\n",
    "def take(n, it):\n",
    "    return [x for x in islice(it, n)]\n",
    "\n",
    "def iterate(f, x):\n",
    "    return accumulate(repeat(x), lambda fx, _: f(fx))\n",
    "\n",
    "\n",
    "def k_meanses(points, k):\n",
    "    \"\"\"returns an infinite sequence of meanses\"\"\"\n",
    "    initial_means = random.sample(list(points), k)\n",
    "    initial_means = list(map(lambda x: list(x), initial_means))\n",
    "    # Note: partial(new_means, points) is the function that takes us from prev_means to next_means\n",
    "    return iterate(partial(new_means, points), initial_means)\n",
    "\n",
    "# Now, we can actually check for very long iterations (from the sequence generated in k_meanses ...)\n",
    "# For example, 10 iterations\n",
    "k=5\n",
    "meanses = take(10, k_meanses(points, k))\n",
    "\n",
    "#print(list(meanses))"
   ]
  },
  {
   "cell_type": "markdown",
   "metadata": {},
   "source": [
    "With these functions, we can easily iterate until convergence:"
   ]
  },
  {
   "cell_type": "code",
   "execution_count": 25,
   "metadata": {},
   "outputs": [
    {
     "name": "stdout",
     "output_type": "stream",
     "text": [
      "[[0.8730900993244606, 0.6472244516049447], [0.32626337090137625, 0.5441035015936303], [0.8344733520974608, 0.40951890546140757], [0.06697731998574852, 0.019097715136552562], [0.4379363613998346, 0.5572892318134448]]\n",
      "[[0.8164726349818979, 0.7740125318201349], [0.2147251266169016, 0.6093776242194979], [0.7882732669833727, 0.24562746495866133], [0.1587808570281894, 0.12228558584749848], [0.5128272406749852, 0.6123514033444744]]\n",
      "[[0.8164726349818979, 0.7740125318201349], [0.2147251266169016, 0.6093776242194979], [0.7882732669833727, 0.24562746495866133], [0.1587808570281894, 0.12228558584749848], [0.5128272406749852, 0.6123514033444744]]\n",
      "[[0.7985561566762419, 0.7696619115931953], [0.20842325669962863, 0.630788055140806], [0.7796663655869734, 0.23633106276061666], [0.17674320950213926, 0.15154713942825176], [0.5111926737819267, 0.6162766192783812]]\n",
      "[[0.7985561566762419, 0.7696619115931953], [0.20842325669962863, 0.630788055140806], [0.7796663655869734, 0.23633106276061666], [0.17674320950213926, 0.15154713942825176], [0.5111926737819267, 0.6162766192783812]]\n",
      "[[0.7985561566762419, 0.7696619115931953], [0.1975970798676619, 0.6804247193722937], [0.7796663655869734, 0.23633106276061666], [0.19537846751588975, 0.1975783875329346], [0.5111926737819267, 0.6162766192783812]]\n",
      "[[0.7985561566762419, 0.7696619115931953], [0.1975970798676619, 0.6804247193722937], [0.7796663655869734, 0.23633106276061666], [0.19537846751588975, 0.1975783875329346], [0.5111926737819267, 0.6162766192783812]]\n",
      "[[0.7985561566762419, 0.7696619115931953], [0.18445004969700018, 0.704653855009176], [0.7796663655869734, 0.23633106276061666], [0.20088184187534122, 0.20928327638686978], [0.49688843248951425, 0.6039885424245318]]\n",
      "[[0.7985561566762419, 0.7696619115931953], [0.18445004969700018, 0.704653855009176], [0.7796663655869734, 0.23633106276061666], [0.20088184187534122, 0.20928327638686978], [0.49688843248951425, 0.6039885424245318]]\n",
      "[[0.7985561566762419, 0.7696619115931953], [0.1765715318523126, 0.7135733190878173], [0.7796663655869734, 0.23633106276061666], [0.20088184187534122, 0.20928327638686978], [0.4837634277519652, 0.5993820008221548]]\n",
      "[[0.7985561566762419, 0.7696619115931953], [0.1765715318523126, 0.7135733190878173], [0.7796663655869734, 0.23633106276061666], [0.20088184187534122, 0.20928327638686978], [0.4837634277519652, 0.5993820008221548]]\n",
      "[[0.7863262494794168, 0.7727369248059235], [0.1593196769383439, 0.7296686604541504], [0.7796663655869734, 0.23633106276061666], [0.19537846751588975, 0.1975783875329346], [0.4438236891914686, 0.5710117459319286]]\n",
      "[[0.7863262494794168, 0.7727369248059235], [0.1593196769383439, 0.7296686604541504], [0.7796663655869734, 0.23633106276061666], [0.19537846751588975, 0.1975783875329346], [0.4438236891914686, 0.5710117459319286]]\n",
      "[[0.7616109642382247, 0.7813976360867064], [0.15000949740226632, 0.7378055776462499], [0.7796663655869734, 0.23633106276061666], [0.19537846751588975, 0.1975783875329346], [0.4216211570684097, 0.5318173075030931]]\n",
      "[[0.7616109642382247, 0.7813976360867064], [0.15000949740226632, 0.7378055776462499], [0.7796663655869734, 0.23633106276061666], [0.19537846751588975, 0.1975783875329346], [0.4216211570684097, 0.5318173075030931]]\n",
      "[[0.7616109642382247, 0.7813976360867064], [0.15000949740226632, 0.7378055776462499], [0.7893466434677928, 0.23585715114134834], [0.18602000957261966, 0.1888579567966691], [0.42223655866343, 0.5031585535729801]]\n",
      "[[0.7616109642382247, 0.7813976360867064], [0.15000949740226632, 0.7378055776462499], [0.7893466434677928, 0.23585715114134834], [0.18602000957261966, 0.1888579567966691], [0.42223655866343, 0.5031585535729801]]\n",
      "[[0.7616109642382247, 0.7813976360867064], [0.15000949740226632, 0.7378055776462499], [0.7893466434677928, 0.23585715114134834], [0.16866857901511415, 0.16918829301527905], [0.4114137692600116, 0.4857204106257368]]\n",
      "[[0.7616109642382247, 0.7813976360867064], [0.15000949740226632, 0.7378055776462499], [0.7893466434677928, 0.23585715114134834], [0.16866857901511415, 0.16918829301527905], [0.4114137692600116, 0.4857204106257368]]\n",
      "[[0.7616109642382247, 0.7813976360867064], [0.15000949740226632, 0.7378055776462499], [0.7893466434677928, 0.23585715114134834], [0.16504903651694433, 0.15473087605014382], [0.40149524016673005, 0.48047457572397734]]\n",
      "[[0.7616109642382247, 0.7813976360867064], [0.15000949740226632, 0.7378055776462499], [0.7893466434677928, 0.23585715114134834], [0.16504903651694433, 0.15473087605014382], [0.40149524016673005, 0.48047457572397734]]\n",
      "[[0.7567680218470136, 0.7709181489596983], [0.15000949740226632, 0.7378055776462499], [0.7893466434677928, 0.23585715114134834], [0.16504903651694433, 0.15473087605014382], [0.38740796286312723, 0.47656488997016866]]\n",
      "[[0.7567680218470136, 0.7709181489596983], [0.15000949740226632, 0.7378055776462499], [0.7893466434677928, 0.23585715114134834], [0.16504903651694433, 0.15473087605014382], [0.38740796286312723, 0.47656488997016866]]\n",
      "[[0.7567680218470136, 0.7709181489596983], [0.15000949740226632, 0.7378055776462499], [0.7893466434677928, 0.23585715114134834], [0.16125387340312458, 0.14008699297697555], [0.37850129745509004, 0.4704164872914492]]\n",
      "[[0.7567680218470136, 0.7709181489596983], [0.15000949740226632, 0.7378055776462499], [0.7893466434677928, 0.23585715114134834], [0.16125387340312458, 0.14008699297697555], [0.37850129745509004, 0.4704164872914492]]\n",
      "[[0.7567680218470136, 0.7709181489596983], [0.15000949740226632, 0.7378055776462499], [0.7893466434677928, 0.23585715114134834], [0.1587808570281894, 0.12228558584749848], [0.36924638689619965, 0.4654709272098857]]\n",
      "[[0.7567680218470136, 0.7709181489596983], [0.15000949740226632, 0.7378055776462499], [0.7893466434677928, 0.23585715114134834], [0.1587808570281894, 0.12228558584749848], [0.36924638689619965, 0.4654709272098857]]\n",
      "[[0.7567680218470136, 0.7709181489596983], [0.15000949740226632, 0.7378055776462499], [0.7893466434677928, 0.23585715114134834], [0.1587808570281894, 0.12228558584749848], [0.36924638689619965, 0.4654709272098857]]\n",
      "Number of iterations required for convergence:  14\n"
     ]
    }
   ],
   "source": [
    "def until_convergence(it):\n",
    "    return accumulate(it, no_repeat)\n",
    "\n",
    "def no_repeat(prev, curr):\n",
    "    print(prev)\n",
    "    print(curr)\n",
    "    if prev == curr: \n",
    "        raise StopIteration\n",
    "    else:\n",
    "        return curr\n",
    "\n",
    "\n",
    "meanses = until_convergence(k_meanses(points, 5))\n",
    "\n",
    "n_iterations=len(list(meanses))\n",
    "print(\"Number of iterations required for convergence: \", n_iterations)"
   ]
  },
  {
   "cell_type": "markdown",
   "metadata": {},
   "source": [
    "The output should be equivalent in both approaches. \n",
    "\n",
    "### FA-8:\n",
    "\n",
    "Reflect on these two implementations. What are their advantages and disadvantadges? Which one do you (subjectively) like most? Can you think of other machine learning algorithms or artificial intelligence applications for which a functional approach could be a better/worse approach? (There is not a clear right or wrong answer to this question, it is just meant to stimulate your thinking and reflect on what you have learnt about Functional Programming in the last three modules)."
   ]
  },
  {
   "cell_type": "code",
   "execution_count": 26,
   "metadata": {},
   "outputs": [],
   "source": [
    "###### FA-8 #####################################\n",
    "\n",
    "fa_8_answer = \"\"\"\n",
    "Your answer goes here\n",
    "\"\"\"\n",
    "\n",
    "##################################################"
   ]
  },
  {
   "cell_type": "markdown",
   "metadata": {},
   "source": [
    "# References\n",
    "\n",
    "* K-means code adapted from Martin Atzmueller's AdvancedProgramming/AP-Lecture7-More-Functional-Examples.ipynb (2020)."
   ]
  }
 ],
 "metadata": {
  "kernelspec": {
   "display_name": "Python 3 (ipykernel)",
   "language": "python",
   "name": "python3"
  },
  "language_info": {
   "codemirror_mode": {
    "name": "ipython",
    "version": 3
   },
   "file_extension": ".py",
   "mimetype": "text/x-python",
   "name": "python",
   "nbconvert_exporter": "python",
   "pygments_lexer": "ipython3",
   "version": "3.9.7"
  }
 },
 "nbformat": 4,
 "nbformat_minor": 4
}
