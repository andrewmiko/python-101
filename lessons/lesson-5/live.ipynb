{
 "cells": [
  {
   "cell_type": "code",
   "execution_count": 16,
   "id": "50174eee-6958-4532-83b8-59c501db5f17",
   "metadata": {},
   "outputs": [],
   "source": [
    "# Functions\n",
    "\n",
    "# print() -> function\n",
    "# print( type(print) )\n",
    "# print() -> func_name() -> () -> run this function\n",
    "# any_func() -> () -> run this function\n",
    "\n",
    "# def -> define function\n",
    "def my_func():\n",
    "    nums = range(1, 11)\n",
    "    for n in nums:\n",
    "        print(n**3)\n",
    "\n",
    "# my_func()"
   ]
  },
  {
   "cell_type": "code",
   "execution_count": 21,
   "id": "5528291b-0464-4b41-ae78-50a95ff1e512",
   "metadata": {},
   "outputs": [
    {
     "name": "stdout",
     "output_type": "stream",
     "text": [
      "Found it - Joker2!\n"
     ]
    }
   ],
   "source": [
    "# I need function\n",
    "# works with list if any values\n",
    "# seaching for specific value\n",
    "# when founds - prints value and exists\n",
    "\n",
    "# I need function to find a card from any sorted / unsorted list of cards\n",
    "# when it finds it -> prints result (value) and exit\n",
    "\n",
    "deck_of_cards = [\n",
    "    \"4D\", \"Joker2\", \"8D\", \"QD\", \"10S\", \"6H\", \"AS\", \"10H\", \"3C\", \"5D\",\n",
    "    \"KC\", \"6S\", \"7D\", \"AD\", \"10C\", \"2H\", \"2S\", \"JS\", \"3D\", \"8S\", \"KS\",\n",
    "    \"6D\", \"4C\", \"5H\", \"3S\", \"Joker1\", \"KH\", \"9D\", \"4H\", \"QH\", \"QC\", \"4S\",\n",
    "    \"2D\", \"9H\", \"2C\", \"9S\", \"8H\", \"8C\", \"JD\", \"7C\", \"JC\", \"AH\", \"QS\", \"5C\",\n",
    "    \"9C\", \"3H\", \"7H\", \"5S\", \"6C\", \"AC\", \"7S\", \"10D\"\n",
    "]\n",
    "\n",
    "# automatically creates internal function variable -> \n",
    "# list_of_cards and card_to_search\n",
    "# list_of_cards => List of Cards -> [...]\n",
    "# card_to_search => Card which we are searching -> \"\"\n",
    "def find_card(list_of_cards, card_to_search):\n",
    "    temp_var = \"Test\"\n",
    "    for card in list_of_cards:\n",
    "        if card_to_search == card:\n",
    "            print(f\"Found it - {card}!\")\n",
    "    return  # returns None\n",
    "\n",
    "# FUNC [VARS <->] <- PY (NOT WORKING)\n",
    "\n",
    "# b -> outsider -> this is not ok\n",
    "# def func(): ->\n",
    "#   a = \"Test\"\n",
    "#   function access -> a internal and is ok (good!)\n",
    "#   function access -> b (external) and is not ok (not good!)\n",
    "#   print(a) -> success\n",
    "#   print(b) -> success (так делать не хорошо!)\n",
    "\n",
    "# print(a) ? -> error\n",
    "\n",
    "find_card(\n",
    "    deck_of_cards,  # list_of_cards\n",
    "    \"Joker2\"\n",
    ")\n",
    "\n",
    "# d \n",
    "# d \n",
    "# d "
   ]
  }
 ],
 "metadata": {
  "kernelspec": {
   "display_name": "Python 3 (ipykernel)",
   "language": "python",
   "name": "python3"
  },
  "language_info": {
   "codemirror_mode": {
    "name": "ipython",
    "version": 3
   },
   "file_extension": ".py",
   "mimetype": "text/x-python",
   "name": "python",
   "nbconvert_exporter": "python",
   "pygments_lexer": "ipython3",
   "version": "3.12.4"
  }
 },
 "nbformat": 4,
 "nbformat_minor": 5
}
